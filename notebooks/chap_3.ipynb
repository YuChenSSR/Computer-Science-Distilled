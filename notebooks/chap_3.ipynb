{
 "cells": [
  {
   "cell_type": "markdown",
   "metadata": {},
   "source": [
    "# 策略"
   ]
  },
  {
   "cell_type": "markdown",
   "metadata": {},
   "source": [
    "## 八皇后问题简介\n",
    "\n",
    "八皇后问题是一个经典的算法问题，属于更广泛的N皇后问题。问题的目标是在8x8的国际象棋棋盘上放置八个皇后，使得它们互不攻击。根据国际象棋的规则，皇后可以攻击同一行、同一列或同一对角线上的任何棋子。\n",
    "\n",
    "这个问题可以扩展到任意大小的N x N棋盘，其中需要放置N个皇后。解决八皇后问题不仅是一个有趣的计算挑战，而且也是研究算法设计和理解回溯算法的一个很好的案例。\n",
    "\n",
    "## 解决策略\n",
    "\n",
    "### 回溯法\n",
    "\n",
    "回溯法是解决八皇后问题最常用的方法。这种方法涉及逐行放置皇后，并在每一行中尝试所有列，以找到合适的位置。如果当前位置导致冲突（即与已放置的皇后在同一行、列或对角线上），算法将取消上一步的选择（回溯）并尝试下一个可能的列位置。\n",
    "\n",
    "#### 算法步骤\n",
    "\n",
    "1. **选择行和列**：从第一行开始，尝试在每一列中放置一个皇后。\n",
    "2. **检查冲突**：对于每一个选择的位置，检查是否与之前放置的皇后有冲突。\n",
    "3. **递归与回溯**：如果当前行的所有列都试过后仍然冲突，回溯到上一行，改变皇后的位置。\n",
    "4. **找到解决方案**：如果成功在所有行中放置了皇后而没有冲突，记录下这一解决方案。\n",
    "5. **继续搜索**：继续搜索其他可能的解决方案，以找到所有可能的配置。\n",
    "\n",
    "### 其他方法\n",
    "\n",
    "- **位运算优化**：在更高效的实现中，可以使用位运算来快速检查冲突，特别是在大规模N皇后问题中。\n",
    "- **启发式搜索**：例如遗传算法或模拟退火等方法也可以用来求解，尤其是在N非常大时。\n",
    "\n",
    "## 实际应用\n",
    "\n",
    "虽然八皇后问题本身是一个理论问题，但解决它所涉及的技术和思想可以应用于许多实际问题，如调度问题、资源分配问题和其他需要考虑多个约束条件的优化问题。\n",
    "\n",
    "## 代码示例（Python）\n",
    "\n",
    "下面是使用回溯法解决八皇后问题的一个简单Python示例：\n"
   ]
  },
  {
   "cell_type": "code",
   "execution_count": 1,
   "metadata": {},
   "outputs": [
    {
     "name": "stdout",
     "output_type": "stream",
     "text": [
      "Total solutions: 92\n",
      "[0, 4, 7, 5, 2, 6, 1, 3]\n",
      "[0, 5, 7, 2, 6, 3, 1, 4]\n",
      "[0, 6, 3, 5, 7, 1, 4, 2]\n",
      "[0, 6, 4, 7, 1, 3, 5, 2]\n",
      "[1, 3, 5, 7, 2, 0, 6, 4]\n",
      "[1, 4, 6, 0, 2, 7, 5, 3]\n",
      "[1, 4, 6, 3, 0, 7, 5, 2]\n",
      "[1, 5, 0, 6, 3, 7, 2, 4]\n",
      "[1, 5, 7, 2, 0, 3, 6, 4]\n",
      "[1, 6, 2, 5, 7, 4, 0, 3]\n",
      "[1, 6, 4, 7, 0, 3, 5, 2]\n",
      "[1, 7, 5, 0, 2, 4, 6, 3]\n",
      "[2, 0, 6, 4, 7, 1, 3, 5]\n",
      "[2, 4, 1, 7, 0, 6, 3, 5]\n",
      "[2, 4, 1, 7, 5, 3, 6, 0]\n",
      "[2, 4, 6, 0, 3, 1, 7, 5]\n",
      "[2, 4, 7, 3, 0, 6, 1, 5]\n",
      "[2, 5, 1, 4, 7, 0, 6, 3]\n",
      "[2, 5, 1, 6, 0, 3, 7, 4]\n",
      "[2, 5, 1, 6, 4, 0, 7, 3]\n",
      "[2, 5, 3, 0, 7, 4, 6, 1]\n",
      "[2, 5, 3, 1, 7, 4, 6, 0]\n",
      "[2, 5, 7, 0, 3, 6, 4, 1]\n",
      "[2, 5, 7, 0, 4, 6, 1, 3]\n",
      "[2, 5, 7, 1, 3, 0, 6, 4]\n",
      "[2, 6, 1, 7, 4, 0, 3, 5]\n",
      "[2, 6, 1, 7, 5, 3, 0, 4]\n",
      "[2, 7, 3, 6, 0, 5, 1, 4]\n",
      "[3, 0, 4, 7, 1, 6, 2, 5]\n",
      "[3, 0, 4, 7, 5, 2, 6, 1]\n",
      "[3, 1, 4, 7, 5, 0, 2, 6]\n",
      "[3, 1, 6, 2, 5, 7, 0, 4]\n",
      "[3, 1, 6, 2, 5, 7, 4, 0]\n",
      "[3, 1, 6, 4, 0, 7, 5, 2]\n",
      "[3, 1, 7, 4, 6, 0, 2, 5]\n",
      "[3, 1, 7, 5, 0, 2, 4, 6]\n",
      "[3, 5, 0, 4, 1, 7, 2, 6]\n",
      "[3, 5, 7, 1, 6, 0, 2, 4]\n",
      "[3, 5, 7, 2, 0, 6, 4, 1]\n",
      "[3, 6, 0, 7, 4, 1, 5, 2]\n",
      "[3, 6, 2, 7, 1, 4, 0, 5]\n",
      "[3, 6, 4, 1, 5, 0, 2, 7]\n",
      "[3, 6, 4, 2, 0, 5, 7, 1]\n",
      "[3, 7, 0, 2, 5, 1, 6, 4]\n",
      "[3, 7, 0, 4, 6, 1, 5, 2]\n",
      "[3, 7, 4, 2, 0, 6, 1, 5]\n",
      "[4, 0, 3, 5, 7, 1, 6, 2]\n",
      "[4, 0, 7, 3, 1, 6, 2, 5]\n",
      "[4, 0, 7, 5, 2, 6, 1, 3]\n",
      "[4, 1, 3, 5, 7, 2, 0, 6]\n",
      "[4, 1, 3, 6, 2, 7, 5, 0]\n",
      "[4, 1, 5, 0, 6, 3, 7, 2]\n",
      "[4, 1, 7, 0, 3, 6, 2, 5]\n",
      "[4, 2, 0, 5, 7, 1, 3, 6]\n",
      "[4, 2, 0, 6, 1, 7, 5, 3]\n",
      "[4, 2, 7, 3, 6, 0, 5, 1]\n",
      "[4, 6, 0, 2, 7, 5, 3, 1]\n",
      "[4, 6, 0, 3, 1, 7, 5, 2]\n",
      "[4, 6, 1, 3, 7, 0, 2, 5]\n",
      "[4, 6, 1, 5, 2, 0, 3, 7]\n",
      "[4, 6, 1, 5, 2, 0, 7, 3]\n",
      "[4, 6, 3, 0, 2, 7, 5, 1]\n",
      "[4, 7, 3, 0, 2, 5, 1, 6]\n",
      "[4, 7, 3, 0, 6, 1, 5, 2]\n",
      "[5, 0, 4, 1, 7, 2, 6, 3]\n",
      "[5, 1, 6, 0, 2, 4, 7, 3]\n",
      "[5, 1, 6, 0, 3, 7, 4, 2]\n",
      "[5, 2, 0, 6, 4, 7, 1, 3]\n",
      "[5, 2, 0, 7, 3, 1, 6, 4]\n",
      "[5, 2, 0, 7, 4, 1, 3, 6]\n",
      "[5, 2, 4, 6, 0, 3, 1, 7]\n",
      "[5, 2, 4, 7, 0, 3, 1, 6]\n",
      "[5, 2, 6, 1, 3, 7, 0, 4]\n",
      "[5, 2, 6, 1, 7, 4, 0, 3]\n",
      "[5, 2, 6, 3, 0, 7, 1, 4]\n",
      "[5, 3, 0, 4, 7, 1, 6, 2]\n",
      "[5, 3, 1, 7, 4, 6, 0, 2]\n",
      "[5, 3, 6, 0, 2, 4, 1, 7]\n",
      "[5, 3, 6, 0, 7, 1, 4, 2]\n",
      "[5, 7, 1, 3, 0, 6, 4, 2]\n",
      "[6, 0, 2, 7, 5, 3, 1, 4]\n",
      "[6, 1, 3, 0, 7, 4, 2, 5]\n",
      "[6, 1, 5, 2, 0, 3, 7, 4]\n",
      "[6, 2, 0, 5, 7, 4, 1, 3]\n",
      "[6, 2, 7, 1, 4, 0, 5, 3]\n",
      "[6, 3, 1, 4, 7, 0, 2, 5]\n",
      "[6, 3, 1, 7, 5, 0, 2, 4]\n",
      "[6, 4, 2, 0, 5, 7, 1, 3]\n",
      "[7, 1, 3, 0, 6, 4, 2, 5]\n",
      "[7, 1, 4, 2, 0, 6, 3, 5]\n",
      "[7, 2, 0, 5, 1, 4, 6, 3]\n",
      "[7, 3, 0, 2, 5, 1, 6, 4]\n"
     ]
    }
   ],
   "source": [
    "def is_safe(board, row, col):\n",
    "    for i in range(row):\n",
    "        if board[i] == col or \\\n",
    "           board[i] - i == col - row or \\\n",
    "           board[i] + i == col + row:\n",
    "            return False\n",
    "    return True\n",
    "\n",
    "def solve_queens(board, row, solutions):\n",
    "    if row == len(board):\n",
    "        solutions.append(board.copy())\n",
    "        return\n",
    "    for col in range(len(board)):\n",
    "        if is_safe(board, row, col):\n",
    "            board[row] = col\n",
    "            solve_queens(board, row + 1, solutions)\n",
    "            board[row] = -1\n",
    "\n",
    "def eight_queens():\n",
    "    board = [-1] * 8\n",
    "    solutions = []\n",
    "    solve_queens(board, 0, solutions)\n",
    "    return solutions\n",
    "\n",
    "solutions = eight_queens()\n",
    "print(f\"Total solutions: {len(solutions)}\")\n",
    "for sol in solutions:\n",
    "    print(sol)\n"
   ]
  },
  {
   "cell_type": "markdown",
   "metadata": {},
   "source": [
    "\n",
    "\n",
    "这段代码定义了一个求解八皇后问题的函数，使用回溯法来逐行放置皇后，并检查每个位置是否安全。每找到一个有效的解决方案，就将其添加到解决方案列表中。"
   ]
  },
  {
   "cell_type": "code",
   "execution_count": 2,
   "metadata": {},
   "outputs": [
    {
     "name": "stdout",
     "output_type": "stream",
     "text": [
      "[0, 4, 7, 5, 2, 6, 1, 3]\n",
      "[0, 5, 7, 2, 6, 3, 1, 4]\n",
      "[0, 6, 3, 5, 7, 1, 4, 2]\n",
      "[0, 6, 4, 7, 1, 3, 5, 2]\n",
      "[1, 3, 5, 7, 2, 0, 6, 4]\n",
      "[1, 4, 6, 0, 2, 7, 5, 3]\n",
      "[1, 4, 6, 3, 0, 7, 5, 2]\n",
      "[1, 5, 0, 6, 3, 7, 2, 4]\n",
      "[1, 5, 7, 2, 0, 3, 6, 4]\n",
      "[1, 6, 2, 5, 7, 4, 0, 3]\n",
      "[1, 6, 4, 7, 0, 3, 5, 2]\n",
      "[1, 7, 5, 0, 2, 4, 6, 3]\n",
      "[2, 0, 6, 4, 7, 1, 3, 5]\n",
      "[2, 4, 1, 7, 0, 6, 3, 5]\n",
      "[2, 4, 1, 7, 5, 3, 6, 0]\n",
      "[2, 4, 6, 0, 3, 1, 7, 5]\n",
      "[2, 4, 7, 3, 0, 6, 1, 5]\n",
      "[2, 5, 1, 4, 7, 0, 6, 3]\n",
      "[2, 5, 1, 6, 0, 3, 7, 4]\n",
      "[2, 5, 1, 6, 4, 0, 7, 3]\n",
      "[2, 5, 3, 0, 7, 4, 6, 1]\n",
      "[2, 5, 3, 1, 7, 4, 6, 0]\n",
      "[2, 5, 7, 0, 3, 6, 4, 1]\n",
      "[2, 5, 7, 0, 4, 6, 1, 3]\n",
      "[2, 5, 7, 1, 3, 0, 6, 4]\n",
      "[2, 6, 1, 7, 4, 0, 3, 5]\n",
      "[2, 6, 1, 7, 5, 3, 0, 4]\n",
      "[2, 7, 3, 6, 0, 5, 1, 4]\n",
      "[3, 0, 4, 7, 1, 6, 2, 5]\n",
      "[3, 0, 4, 7, 5, 2, 6, 1]\n",
      "[3, 1, 4, 7, 5, 0, 2, 6]\n",
      "[3, 1, 6, 2, 5, 7, 0, 4]\n",
      "[3, 1, 6, 2, 5, 7, 4, 0]\n",
      "[3, 1, 6, 4, 0, 7, 5, 2]\n",
      "[3, 1, 7, 4, 6, 0, 2, 5]\n",
      "[3, 1, 7, 5, 0, 2, 4, 6]\n",
      "[3, 5, 0, 4, 1, 7, 2, 6]\n",
      "[3, 5, 7, 1, 6, 0, 2, 4]\n",
      "[3, 5, 7, 2, 0, 6, 4, 1]\n",
      "[3, 6, 0, 7, 4, 1, 5, 2]\n",
      "[3, 6, 2, 7, 1, 4, 0, 5]\n",
      "[3, 6, 4, 1, 5, 0, 2, 7]\n",
      "[3, 6, 4, 2, 0, 5, 7, 1]\n",
      "[3, 7, 0, 2, 5, 1, 6, 4]\n",
      "[3, 7, 0, 4, 6, 1, 5, 2]\n",
      "[3, 7, 4, 2, 0, 6, 1, 5]\n",
      "[4, 0, 3, 5, 7, 1, 6, 2]\n",
      "[4, 0, 7, 3, 1, 6, 2, 5]\n",
      "[4, 0, 7, 5, 2, 6, 1, 3]\n",
      "[4, 1, 3, 5, 7, 2, 0, 6]\n",
      "[4, 1, 3, 6, 2, 7, 5, 0]\n",
      "[4, 1, 5, 0, 6, 3, 7, 2]\n",
      "[4, 1, 7, 0, 3, 6, 2, 5]\n",
      "[4, 2, 0, 5, 7, 1, 3, 6]\n",
      "[4, 2, 0, 6, 1, 7, 5, 3]\n",
      "[4, 2, 7, 3, 6, 0, 5, 1]\n",
      "[4, 6, 0, 2, 7, 5, 3, 1]\n",
      "[4, 6, 0, 3, 1, 7, 5, 2]\n",
      "[4, 6, 1, 3, 7, 0, 2, 5]\n",
      "[4, 6, 1, 5, 2, 0, 3, 7]\n",
      "[4, 6, 1, 5, 2, 0, 7, 3]\n",
      "[4, 6, 3, 0, 2, 7, 5, 1]\n",
      "[4, 7, 3, 0, 2, 5, 1, 6]\n",
      "[4, 7, 3, 0, 6, 1, 5, 2]\n",
      "[5, 0, 4, 1, 7, 2, 6, 3]\n",
      "[5, 1, 6, 0, 2, 4, 7, 3]\n",
      "[5, 1, 6, 0, 3, 7, 4, 2]\n",
      "[5, 2, 0, 6, 4, 7, 1, 3]\n",
      "[5, 2, 0, 7, 3, 1, 6, 4]\n",
      "[5, 2, 0, 7, 4, 1, 3, 6]\n",
      "[5, 2, 4, 6, 0, 3, 1, 7]\n",
      "[5, 2, 4, 7, 0, 3, 1, 6]\n",
      "[5, 2, 6, 1, 3, 7, 0, 4]\n",
      "[5, 2, 6, 1, 7, 4, 0, 3]\n",
      "[5, 2, 6, 3, 0, 7, 1, 4]\n",
      "[5, 3, 0, 4, 7, 1, 6, 2]\n",
      "[5, 3, 1, 7, 4, 6, 0, 2]\n",
      "[5, 3, 6, 0, 2, 4, 1, 7]\n",
      "[5, 3, 6, 0, 7, 1, 4, 2]\n",
      "[5, 7, 1, 3, 0, 6, 4, 2]\n",
      "[6, 0, 2, 7, 5, 3, 1, 4]\n",
      "[6, 1, 3, 0, 7, 4, 2, 5]\n",
      "[6, 1, 5, 2, 0, 3, 7, 4]\n",
      "[6, 2, 0, 5, 7, 4, 1, 3]\n",
      "[6, 2, 7, 1, 4, 0, 5, 3]\n",
      "[6, 3, 1, 4, 7, 0, 2, 5]\n",
      "[6, 3, 1, 7, 5, 0, 2, 4]\n",
      "[6, 4, 2, 0, 5, 7, 1, 3]\n",
      "[7, 1, 3, 0, 6, 4, 2, 5]\n",
      "[7, 1, 4, 2, 0, 6, 3, 5]\n",
      "[7, 2, 0, 5, 1, 4, 6, 3]\n",
      "[7, 3, 0, 2, 5, 1, 6, 4]\n"
     ]
    }
   ],
   "source": [
    "def is_safe(queens, row, col):\n",
    "    for i in range(row):\n",
    "        if queens[i] == col or abs(queens[i] - col) == row - i:\n",
    "            return False\n",
    "    return True\n",
    "\n",
    "def solve_n_queens(n, queens, row):\n",
    "    if row == n:\n",
    "        print(queens)\n",
    "        return\n",
    "    for col in range(n):\n",
    "        if is_safe(queens, row, col):\n",
    "            queens[row] = col\n",
    "            solve_n_queens(n, queens, row + 1)\n",
    "\n",
    "n = 8\n",
    "queens = [-1] * n\n",
    "solve_n_queens(n, queens, 0)"
   ]
  },
  {
   "cell_type": "markdown",
   "metadata": {},
   "source": [
    "## 迭代"
   ]
  },
  {
   "cell_type": "markdown",
   "metadata": {},
   "source": [
    "香水提炼自各种花香。给定花的集合 F，如何 列出所有可以制造的香水？"
   ]
  },
  {
   "cell_type": "code",
   "execution_count": 3,
   "metadata": {},
   "outputs": [
    {
     "name": "stdout",
     "output_type": "stream",
     "text": [
      "所有可能的香水配方:\n",
      "[]\n",
      "['玫瑰']\n",
      "['玫瑰', '茉莉']\n",
      "['玫瑰', '茉莉', '薰衣草']\n",
      "['玫瑰', '茉莉', '薰衣草', '橙花']\n",
      "['玫瑰', '茉莉', '橙花']\n",
      "['玫瑰', '薰衣草']\n",
      "['玫瑰', '薰衣草', '橙花']\n",
      "['玫瑰', '橙花']\n",
      "['茉莉']\n",
      "['茉莉', '薰衣草']\n",
      "['茉莉', '薰衣草', '橙花']\n",
      "['茉莉', '橙花']\n",
      "['薰衣草']\n",
      "['薰衣草', '橙花']\n",
      "['橙花']\n"
     ]
    }
   ],
   "source": [
    "# 回溯\n",
    "def generate_perfumes(flowers, current_perfume, perfumes):\n",
    "    perfumes.append(current_perfume)\n",
    "\n",
    "    \n",
    "    for i in range(len(flowers)):\n",
    "        generate_perfumes(flowers[i+1:], current_perfume + [flowers[i]], perfumes)\n",
    "\n",
    "def list_all_perfumes(flowers):\n",
    "    perfumes = []\n",
    "    generate_perfumes(flowers, [], perfumes)\n",
    "    return perfumes\n",
    "\n",
    "# 示例用法\n",
    "flowers = ['玫瑰', '茉莉', '薰衣草', '橙花']\n",
    "# flowers = ['玫瑰', '茉莉']\n",
    "all_perfumes = list_all_perfumes(flowers)\n",
    "\n",
    "print(\"所有可能的香水配方:\")\n",
    "for perfume in all_perfumes:\n",
    "    print(perfume)"
   ]
  },
  {
   "cell_type": "markdown",
   "metadata": {},
   "source": [
    "迭代"
   ]
  },
  {
   "cell_type": "code",
   "execution_count": 4,
   "metadata": {},
   "outputs": [
    {
     "name": "stdout",
     "output_type": "stream",
     "text": [
      "所有可能的香水配方:\n",
      "[]\n",
      "['玫瑰']\n",
      "['茉莉']\n",
      "['茉莉', '玫瑰']\n",
      "['薰衣草']\n",
      "['薰衣草', '玫瑰']\n",
      "['茉莉', '薰衣草']\n",
      "['茉莉', '薰衣草', '玫瑰']\n",
      "['橙花']\n",
      "['橙花', '玫瑰']\n",
      "['茉莉', '橙花']\n",
      "['茉莉', '橙花', '玫瑰']\n",
      "['薰衣草', '橙花']\n",
      "['薰衣草', '橙花', '玫瑰']\n",
      "['茉莉', '薰衣草', '橙花']\n",
      "['茉莉', '薰衣草', '橙花', '玫瑰']\n"
     ]
    }
   ],
   "source": [
    "def power_set(flowers):\n",
    "    fragrances = [set()]\n",
    "    \n",
    "    for flower in flowers:\n",
    "        new_fragrances = [fragrance.copy() for fragrance in fragrances]\n",
    "        for fragrance in new_fragrances:\n",
    "            fragrance.add(flower)\n",
    "        fragrances.extend(new_fragrances)\n",
    "    \n",
    "    return fragrances\n",
    "\n",
    "# 示例用法\n",
    "flowers = ['玫瑰', '茉莉', '薰衣草', '橙花']\n",
    "all_perfumes = power_set(flowers)\n",
    "\n",
    "print(\"所有可能的香水配方:\")\n",
    "for perfume in all_perfumes:\n",
    "    print(list(perfume))"
   ]
  },
  {
   "cell_type": "markdown",
   "metadata": {},
   "source": [
    "## 递归"
   ]
  },
  {
   "cell_type": "code",
   "execution_count": 5,
   "metadata": {},
   "outputs": [],
   "source": [
    "# 编写一个返回第 n 个斐波那契数的函数\n",
    "\n",
    "def fib(n):\n",
    "    if n <= 2:\n",
    "        return 1\n",
    "    return fib(n - 1) + fib(n - 2)"
   ]
  },
  {
   "cell_type": "code",
   "execution_count": 6,
   "metadata": {},
   "outputs": [
    {
     "data": {
      "text/plain": [
       "55"
      ]
     },
     "execution_count": 6,
     "metadata": {},
     "output_type": "execute_result"
    }
   ],
   "source": [
    "fib(10)"
   ]
  },
  {
   "cell_type": "code",
   "execution_count": 7,
   "metadata": {},
   "outputs": [
    {
     "name": "stdout",
     "output_type": "stream",
     "text": [
      "所有可能的香水配方:\n",
      "[]\n",
      "['橙花']\n",
      "['薰衣草']\n",
      "['薰衣草', '橙花']\n",
      "['茉莉']\n",
      "['茉莉', '橙花']\n",
      "['薰衣草', '茉莉']\n",
      "['薰衣草', '橙花', '茉莉']\n",
      "['玫瑰']\n",
      "['橙花', '玫瑰']\n",
      "['薰衣草', '玫瑰']\n",
      "['薰衣草', '橙花', '玫瑰']\n",
      "['茉莉', '玫瑰']\n",
      "['茉莉', '橙花', '玫瑰']\n",
      "['薰衣草', '茉莉', '玫瑰']\n",
      "['薰衣草', '橙花', '茉莉', '玫瑰']\n"
     ]
    }
   ],
   "source": [
    "def recursive_power_set(flowers):\n",
    "    if len(flowers) == 0:\n",
    "        return [set()]\n",
    "    \n",
    "    first_flower = flowers[0]\n",
    "    rest_flowers = flowers[1:]\n",
    "    \n",
    "    power_set_without_first = recursive_power_set(rest_flowers)\n",
    "    power_set_with_first = [subset.union({first_flower}) for subset in power_set_without_first]\n",
    "    \n",
    "    return power_set_without_first + power_set_with_first\n",
    "\n",
    "# 示例用法\n",
    "flowers = ['玫瑰', '茉莉', '薰衣草', '橙花']\n",
    "all_perfumes = recursive_power_set(flowers)\n",
    "\n",
    "print(\"所有可能的香水配方:\")\n",
    "for perfume in all_perfumes:\n",
    "    print(list(perfume))"
   ]
  },
  {
   "cell_type": "code",
   "execution_count": 8,
   "metadata": {},
   "outputs": [
    {
     "name": "stdout",
     "output_type": "stream",
     "text": [
      "racecar 是回文\n",
      "level 是回文\n",
      "hello 不是回文\n",
      "madam 是回文\n",
      "python 不是回文\n"
     ]
    }
   ],
   "source": [
    "def is_palindrome(word):\n",
    "    if len(word) <= 1:\n",
    "        return True\n",
    "    \n",
    "    if word[0] == word[-1]:\n",
    "        return is_palindrome(word[1:-1])\n",
    "    \n",
    "    return False\n",
    "\n",
    "# 示例用法\n",
    "words = [\"racecar\", \"level\", \"hello\", \"madam\", \"python\"]\n",
    "\n",
    "for word in words:\n",
    "    if is_palindrome(word):\n",
    "        print(f\"{word} 是回文\")\n",
    "    else:\n",
    "        print(f\"{word} 不是回文\")"
   ]
  },
  {
   "cell_type": "markdown",
   "metadata": {},
   "source": [
    "## 蛮力"
   ]
  },
  {
   "cell_type": "markdown",
   "metadata": {},
   "source": [
    "蛮力策略对问题所有可能的候选解进行检验，也称为穷举搜索。  \n",
    "这是一种朴素且毫无技巧可言的策略：即便存在数十亿个候选解，蛮力法也完 全依靠计算机的力量来逐一检验每个解。"
   ]
  },
  {
   "cell_type": "markdown",
   "metadata": {},
   "source": [
    "背包问题 　   \n",
    "你将准备销售的物品放进背包。但背包的承重有限，无法携带所有物品，因此必须对装入背包的物品做出选择。给定每件物品的重量和销售价值，那么携带哪些物品才能 获得最大利润？"
   ]
  },
  {
   "cell_type": "code",
   "execution_count": 9,
   "metadata": {},
   "outputs": [
    {
     "name": "stdout",
     "output_type": "stream",
     "text": [
      "最佳选择的物品索引: {0, 1, 3}\n",
      "最大价值: 13\n"
     ]
    }
   ],
   "source": [
    "# 使用power_set\n",
    "\n",
    "def total_weight(candidate, weights):\n",
    "    return sum(weights[i] for i in candidate)\n",
    "\n",
    "def sales_value(candidate, values):\n",
    "    return sum(values[i] for i in candidate)\n",
    "\n",
    "def knapsack(items, max_weight, weights, values):\n",
    "    best_value = 0\n",
    "    best_candidate = []\n",
    "\n",
    "    for candidate in power_set(items):\n",
    "        if total_weight(candidate, weights) <= max_weight:\n",
    "            if sales_value(candidate, values) > best_value:\n",
    "                best_value = sales_value(candidate, values)\n",
    "                best_candidate = candidate\n",
    "\n",
    "    return best_candidate\n",
    "\n",
    "# 示例用法\n",
    "items = [0, 1, 2, 3]\n",
    "weights = [2, 3, 4, 5]\n",
    "values = [3, 4, 5, 6]\n",
    "max_weight = 10\n",
    "\n",
    "best_items = knapsack(items, max_weight, weights, values)\n",
    "print(\"最佳选择的物品索引:\", best_items)\n",
    "print(\"最大价值:\", sales_value(best_items, values))\n"
   ]
  },
  {
   "cell_type": "markdown",
   "metadata": {},
   "source": [
    "## 贪心法"
   ]
  },
  {
   "cell_type": "markdown",
   "metadata": {},
   "source": [
    "`邪恶背包问题`         \n",
    "一名贪心的窃贼闯入你家窃取准备销售的物品，他决定将偷来的东西装入背包。那么他会偷哪些东西？记住，窃贼在你家停留的时间越短，被抓住的可能性就越小。"
   ]
  },
  {
   "cell_type": "markdown",
   "metadata": {},
   "source": [
    "我们可以使用贪心算法来解决邪恶背包问题。贪心算法的思路是每次选择性价比(价值/重量)最高的物品装入背包,直到背包装满或没有更多物品可选。以下是使用Python实现的代码:\n"
   ]
  },
  {
   "cell_type": "code",
   "execution_count": 10,
   "metadata": {},
   "outputs": [
    {
     "name": "stdout",
     "output_type": "stream",
     "text": [
      "窃贼偷取的最大价值为: 160\n",
      "窃贼应该偷取的物品编号为: [0, 1]\n"
     ]
    }
   ],
   "source": [
    "def greedy_knapsack(values, weights, capacity):\n",
    "    n = len(values)\n",
    "    items = [(values[i], weights[i], i) for i in range(n)]\n",
    "    items.sort(key=lambda item: item[0] / item[1], reverse=True)\n",
    "    \n",
    "    total_value = 0\n",
    "    total_weight = 0\n",
    "    stolen_items = []\n",
    "    \n",
    "    for item in items:\n",
    "        if total_weight + item[1] <= capacity:\n",
    "            total_value += item[0]\n",
    "            total_weight += item[1]\n",
    "            stolen_items.append(item[2])\n",
    "    \n",
    "    return total_value, stolen_items\n",
    "\n",
    "# 示例用法\n",
    "values = [60, 100, 120]\n",
    "weights = [10, 20, 30]\n",
    "capacity = 50\n",
    "\n",
    "max_value, stolen_items = greedy_knapsack(values, weights, capacity)\n",
    "print(f\"窃贼偷取的最大价值为: {max_value}\")\n",
    "print(f\"窃贼应该偷取的物品编号为: {stolen_items}\")"
   ]
  },
  {
   "cell_type": "code",
   "execution_count": 11,
   "metadata": {},
   "outputs": [
    {
     "name": "stdout",
     "output_type": "stream",
     "text": [
      "窃贼偷取的最大价值为: 220\n",
      "窃贼应该偷取的物品编号为: [2, 1]\n"
     ]
    }
   ],
   "source": [
    "def dp_knapsack(values, weights, capacity):\n",
    "    n = len(values)\n",
    "    dp = [[0 for _ in range(capacity + 1)] for _ in range(n + 1)]\n",
    "    \n",
    "    for i in range(1, n + 1):\n",
    "        for w in range(1, capacity + 1):\n",
    "            if weights[i - 1] <= w:\n",
    "                dp[i][w] = max(values[i - 1] + dp[i - 1][w - weights[i - 1]], dp[i - 1][w])\n",
    "            else:\n",
    "                dp[i][w] = dp[i - 1][w]\n",
    "    \n",
    "    total_value = dp[n][capacity]\n",
    "    stolen_items = []\n",
    "    w = capacity\n",
    "    for i in range(n, 0, -1):\n",
    "        if dp[i][w] != dp[i - 1][w]:\n",
    "            stolen_items.append(i - 1)\n",
    "            w -= weights[i - 1]\n",
    "    \n",
    "    return total_value, stolen_items\n",
    "\n",
    "# 示例用法\n",
    "values = [60, 100, 120]\n",
    "weights = [10, 20, 30]\n",
    "capacity = 50\n",
    "\n",
    "max_value, stolen_items = dp_knapsack(values, weights, capacity)\n",
    "print(f\"窃贼偷取的最大价值为: {max_value}\")\n",
    "print(f\"窃贼应该偷取的物品编号为: {stolen_items}\")"
   ]
  },
  {
   "cell_type": "markdown",
   "metadata": {},
   "source": [
    "\n",
    "\n",
    "代码解释:\n",
    "1. `greedy_knapsack`函数接受物品的价值列表`values`,重量列表`weights`以及背包容量`capacity`作为参数。\n",
    "2. 将物品的价值、重量和编号打包成元组列表`items`,并按照性价比从高到低排序。\n",
    "3. 初始化变量`total_value`(总价值)、`total_weight`(总重量)和`stolen_items`(被偷物品的编号列表)。\n",
    "4. 遍历排序后的`items`列表,如果当前物品的重量加上`total_weight`不超过背包容量,就将其加入`stolen_items`,并更新`total_value`和`total_weight`。\n",
    "5. 返回偷取的最大价值和被偷物品的编号列表。\n",
    "\n",
    "在示例用法中,我们定义了物品的价值列表`values`,重量列表`weights`和背包容量`capacity`,然后调用`greedy_knapsack`函数计算窃贼应该偷取哪些物品以及能偷到的最大价值。\n",
    "\n",
    "需要注意的是,贪心算法并不总是能得到最优解,但在许多情况下,它能提供一个相当不错的近似解。对于背包问题,贪心算法的时间复杂度为O(nlogn),其中n为物品数量,空间复杂度为O(n)。"
   ]
  },
  {
   "cell_type": "markdown",
   "metadata": {},
   "source": [
    "## 归并排序\n",
    "如果需要对一个大列表排序，可以将其一分为二，得到两个待排序的 子问题。利用 merge 算法 a 将两个子问题的解（即经过排序的两个子列 表）合二为一，就能实现对整个列表的排序。那么如何对两个子问题排 序呢？将二者分解为子子问题，然后进行排序与合并。新的子子问题仍 然可以继续分解、排序与合并。分解操作一直进行下去，直至达到基线 条件，即仅包含一个元素的列表，而它已经是排好序的。"
   ]
  },
  {
   "cell_type": "code",
   "execution_count": 12,
   "metadata": {},
   "outputs": [],
   "source": [
    "def merge_sort(arr):\n",
    "    if len(arr) <= 1:\n",
    "        return arr\n",
    "    \n",
    "    # 将列表一分为二\n",
    "    mid = len(arr) // 2\n",
    "    left = arr[:mid]\n",
    "    right = arr[mid:]\n",
    "    \n",
    "    # 递归对两个子列表进行排序\n",
    "    left = merge_sort(left)\n",
    "    right = merge_sort(right)\n",
    "    \n",
    "    # 合并两个已排序的子列表\n",
    "    return merge(left, right)\n",
    "\n",
    "def merge(left, right):\n",
    "    result = []\n",
    "    i = j = 0\n",
    "    \n",
    "    # 比较左右两个子列表的元素,将较小的元素添加到结果列表\n",
    "    while i < len(left) and j < len(right):\n",
    "        if left[i] <= right[j]:\n",
    "            result.append(left[i])\n",
    "            i += 1\n",
    "        else:\n",
    "            result.append(right[j])\n",
    "            j += 1\n",
    "    \n",
    "    # 将剩余的元素添加到结果列表\n",
    "    result.extend(left[i:])\n",
    "    result.extend(right[j:])\n",
    "    \n",
    "    return result"
   ]
  },
  {
   "cell_type": "code",
   "execution_count": 13,
   "metadata": {},
   "outputs": [
    {
     "name": "stdout",
     "output_type": "stream",
     "text": [
      "[11, 12, 22, 25, 34, 64, 90]\n"
     ]
    }
   ],
   "source": [
    "arr = [64, 34, 25, 12, 22, 11, 90]\n",
    "sorted_arr = merge_sort(arr)\n",
    "print(sorted_arr)"
   ]
  },
  {
   "cell_type": "markdown",
   "metadata": {},
   "source": [
    "## 分治法"
   ]
  },
  {
   "cell_type": "markdown",
   "metadata": {},
   "source": [
    "分治法较之简单的蛮力法更胜一筹。 将价格历史一分为二可以得到两个子问题：分别找出前半段时间与后半 段时间的最佳交易。整个时段内的最佳交易属于以下某种情况。 (1) 在前半段时间买入与卖出的最佳交易。 (2) 在后半段时间买入与卖出的最佳交易。 (3) 在前半段时间买入、后半段时间卖出的最佳交易。下面是伪代码,根据它写出python并测试:\n",
    "```\n",
    "function trade(prices) \n",
    "    if prices.length = 1 \n",
    "        return 0 \n",
    "    former ← prices.first_half \n",
    "    latter ← prices.last_half \n",
    "    case3 ← max(latter) - min(former) \n",
    "    return max(trade(former), trade(latter), case3)\n",
    "```"
   ]
  },
  {
   "cell_type": "code",
   "execution_count": 14,
   "metadata": {},
   "outputs": [],
   "source": [
    "def trade(prices):\n",
    "    if len(prices) == 1:\n",
    "        return 0\n",
    "    \n",
    "    mid = len(prices) // 2\n",
    "    former = prices[:mid]\n",
    "    latter = prices[mid:]\n",
    "    \n",
    "    case1 = trade(former)\n",
    "    case2 = trade(latter)\n",
    "    case3 = max(latter) - min(former)\n",
    "    \n",
    "    return max(case1, case2, case3)\n"
   ]
  },
  {
   "cell_type": "code",
   "execution_count": 15,
   "metadata": {},
   "outputs": [
    {
     "name": "stdout",
     "output_type": "stream",
     "text": [
      "5\n",
      "0\n",
      "4\n",
      "45\n"
     ]
    }
   ],
   "source": [
    "\n",
    "# 测试代码\n",
    "prices1 = [7, 1, 5, 3, 6, 4]\n",
    "print(trade(prices1))  # 输出: 5\n",
    "\n",
    "prices2 = [7, 6, 4, 3, 1]\n",
    "print(trade(prices2))  # 输出: 0\n",
    "\n",
    "prices3 = [1, 2, 3, 4, 5]\n",
    "print(trade(prices3))  # 输出: 4\n",
    "\n",
    "prices4 = [27, 53, 7, 25, 33, 2, 32, 47, 43]\n",
    "# prices4 = [27, 53, 7, 25, 34]\n",
    "print(trade(prices4))  "
   ]
  },
  {
   "cell_type": "markdown",
   "metadata": {},
   "source": [
    "#### 为什么分治法可以求出整个时段内的最佳交易收益。会不会有遗漏的情况?   \n",
    "分治法可以求出整个时段内的最佳交易收益,不会有遗漏的情况。下面我们来详细分析一下原因。\n",
    "\n",
    "在分治法中,我们将整个时段一分为二,得到前半段时间和后半段时间。然后,我们考虑了以下三种情况:\n",
    "\n",
    "1. 在前半段时间买入与卖出的最佳交易收益 (case1)。\n",
    "2. 在后半段时间买入与卖出的最佳交易收益 (case2)。\n",
    "3. 在前半段时间买入、后半段时间卖出的最佳交易收益 (case3)。\n",
    "\n",
    "这三种情况涵盖了所有可能的最佳交易情况:\n",
    "\n",
    "1. 如果最佳交易发生在前半段时间内,那么它将被 case1 所覆盖。\n",
    "2. 如果最佳交易发生在后半段时间内,那么它将被 case2 所覆盖。\n",
    "3. 如果最佳交易是在前半段时间买入、后半段时间卖出,那么它将被 case3 所覆盖。\n",
    "\n",
    "通过递归地将问题分解为子问题,我们可以确保每个子问题都会考虑这三种情况。在递归的基础情况下,当价格列表的长度为1时,则唯一可能存在的交易是在同一天买入并卖出，因此收益为零,因此返回0。\n",
    "\n",
    "最终,通过比较这三种情况的最大值,我们可以得到整个时段内的最佳交易收益。这个过程不会遗漏任何可能的最佳交易情况,因为我们考虑了所有可能的情况:要么最佳交易发生在前半段时间内,要么发生在后半段时间内,要么跨越了前半段和后半段时间。\n",
    "\n",
    "递归的过程确保了我们将问题分解为更小的子问题,并且在每个子问题中都考虑了所有可能的情况。通过比较不同情况下的最大收益,我们可以得到整个时段内的最佳交易收益,不会遗漏任何情况。\n",
    "\n",
    "因此,使用分治法可以正确地求出整个时段内的最佳交易收益,不会有遗漏的情况。"
   ]
  },
  {
   "cell_type": "markdown",
   "metadata": {},
   "source": [
    "### 背包问题"
   ]
  },
  {
   "cell_type": "markdown",
   "metadata": {},
   "source": [
    "背包问题是一个经典的优化问题,可以使用分治法来求解。问题描述如下:  \n",
    "给定一个容量为 W 的背包和 N 个物品,每个物品都有重量 w[i] 和价值 v[i]。目标是选择一些物品放入背包,使得总重量不超过背包容量,并且总价值最大化。"
   ]
  },
  {
   "cell_type": "code",
   "execution_count": 16,
   "metadata": {},
   "outputs": [
    {
     "name": "stdout",
     "output_type": "stream",
     "text": [
      "最大价值: 1520\n",
      "执行时间: 0.011853933334350586\n"
     ]
    }
   ],
   "source": [
    "def knapsack(W, w, v, n):\n",
    "    if n == 0 or W == 0:\n",
    "        return 0\n",
    "    \n",
    "    if w[n-1] > W:\n",
    "        return knapsack(W, w, v, n-1)\n",
    "    \n",
    "    else:\n",
    "        return max(v[n-1] + knapsack(W-w[n-1], w, v, n-1), knapsack(W, w, v, n-1))\n",
    "\n",
    "# 测试代码 20个物品\n",
    "W = 500\n",
    "w = [30, 10, 20, 40, 50, 60, 70, 80, 90, 100, 110, 120, 130, 140, 150, 160, 170, 180, 190, 200]\n",
    "v = [120, 60, 100, 140, 160, 180, 200, 220, 240, 260, 280, 300, 320, 340, 360, 380, 400, 420, 440, 460]\n",
    "n = len(v)\n",
    "\n",
    "import time\n",
    "start = time.time()\n",
    "max_value = knapsack(W, w, v, n)\n",
    "end = time.time()\n",
    "\n",
    "#end-start Divide and Conquer\n",
    "elapsed_time_DC = end - start\n",
    "\n",
    "print(\"最大价值:\", max_value)\n",
    "\n",
    "print(\"执行时间:\", elapsed_time_DC)"
   ]
  },
  {
   "cell_type": "markdown",
   "metadata": {},
   "source": [
    "\n",
    "\n",
    "代码解释:\n",
    "1. `knapsack` 函数接受四个参数:背包容量 `W`,物品重量列表 `w`,物品价值列表 `v`,以及物品数量 `n`。\n",
    "2. 基础情况:如果没有物品或背包容量为0,则无法放入任何物品,返回0。\n",
    "3. 如果当前物品的重量大于背包的剩余容量,则不能将其放入背包,递归调用 `knapsack` 函数,考虑剩余的物品。\n",
    "4. 否则,我们有两个选择:\n",
    "   - 将当前物品放入背包,并递归调用 `knapsack` 函数,考虑剩余的物品和减少的背包容量。\n",
    "   - 不将当前物品放入背包,直接递归调用 `knapsack` 函数,考虑剩余的物品。\n",
    "5. 返回这两个选择中的最大值,即放入当前物品和不放入当前物品所能获得的最大价值。\n",
    "\n",
    "在测试代码中,我们定义了背包容量 `W` 为50,物品重量列表 `w` 为 ``,物品价值列表 `v` 为 `[60, 100, 120]`。然后,我们调用 `knapsack` 函数,传入这些参数以及物品数量 `n`,得到最大价值。\n",
    "\n",
    "输出结果:\n",
    "```\n",
    "最大价值: 220\n",
    "```\n",
    "\n",
    "这意味着,通过选择合适的物品放入背包,可以获得最大价值220。\n",
    "\n",
    "分治法通过将问题分解为子问题,并递归地求解子问题,最终得到原问题的解。在背包问题中,我们将问题分解为选择当前物品和不选择当前物品两种情况,并递归地求解子问题,最终得到最大价值。\n",
    "\n",
    "需要注意的是,这种分治法的实现是一种暴力搜索,时间复杂度为`指数级别`。对于大规模的背包问题,可以考虑使用动态规划等更高效的算法来求解。"
   ]
  },
  {
   "cell_type": "code",
   "execution_count": 17,
   "metadata": {},
   "outputs": [
    {
     "name": "stdout",
     "output_type": "stream",
     "text": [
      "最大价值: 1520\n",
      "耗时: 0.0006773471832275391\n"
     ]
    }
   ],
   "source": [
    "def knapsack_MemoryBasedSearch(W, weights, values, n, memo):\n",
    "    # Base case: no capacity or no items left\n",
    "    if n == 0 or W == 0:\n",
    "        return 0\n",
    "    \n",
    "    # Check if value is already computed\n",
    "    if memo[n][W] != -1:\n",
    "        return memo[n][W]\n",
    "    \n",
    "    # If weight of the nth item is more than knapsack capacity, skip it\n",
    "    if weights[n-1] > W:\n",
    "        memo[n][W] = knapsack_MemoryBasedSearch(W, weights, values, n-1, memo)\n",
    "    else:\n",
    "        # Store the result in memo and return it\n",
    "        memo[n][W] = max(\n",
    "            values[n-1] + knapsack_MemoryBasedSearch(W - weights[n-1], weights, values, n-1, memo),\n",
    "            knapsack_MemoryBasedSearch(W, weights, values, n-1, memo)\n",
    "        )\n",
    "    \n",
    "    return memo[n][W]\n",
    "\n",
    "def knapsack_main(W, weights, values):\n",
    "    n = len(weights)\n",
    "    # Initialize memo table with -1\n",
    "    memo = [[-1 for _ in range(W + 1)] for _ in range(n + 1)]\n",
    "    return knapsack_MemoryBasedSearch(W, weights, values, n, memo)\n",
    "\n",
    "# Example usage:\n",
    "# 测试代码 20个物品\n",
    "W = 500\n",
    "w = [30, 10, 20, 40, 50, 60, 70, 80, 90, 100, 110, 120, 130, 140, 150, 160, 170, 180, 190, 200]\n",
    "v = [120, 60, 100, 140, 160, 180, 200, 220, 240, 260, 280, 300, 320, 340, 360, 380, 400, 420, 440, 460]\n",
    "n = len(v)\n",
    "\n",
    "import time\n",
    "start_time = time.time()\n",
    "max_value = knapsack_main(W, w, v)\n",
    "end_time = time.time()\n",
    "\n",
    "# Calculate elapsed time\n",
    "elapsed_time_DP = end_time - start_time\n",
    "\n",
    "print(\"最大价值:\", max_value)\n",
    "print(\"耗时:\", elapsed_time_DP)\n"
   ]
  },
  {
   "cell_type": "code",
   "execution_count": 18,
   "metadata": {},
   "outputs": [
    {
     "name": "stdout",
     "output_type": "stream",
     "text": [
      "Divide and Conquer: 0.011853933334350586\n",
      "Dynamic Programming MemoryBasedSearch: 0.0006773471832275391\n",
      "Speedup by DP MemoryBasedSearch: 17.50052798310454\n"
     ]
    }
   ],
   "source": [
    "# compare the two algorithms\n",
    "print(\"Divide and Conquer:\", elapsed_time_DC)\n",
    "print(\"Dynamic Programming MemoryBasedSearch:\", elapsed_time_DP)\n",
    "print(\"Speedup by DP MemoryBasedSearch:\", elapsed_time_DC / elapsed_time_DP)"
   ]
  },
  {
   "cell_type": "markdown",
   "metadata": {},
   "source": [
    "你提供的代码使用了记忆化搜索来优化背包问题的求解。记忆化搜索是一种结合了递归和动态规划的技术,通过存储已计算过的子问题的解来避免重复计算。\n",
    "\n",
    "在你的代码中:\n",
    "1. `knapsack` 函数接受背包容量 `W`,物品重量列表 `weights`,物品价值列表 `values`,物品数量 `n`,以及记忆化数组 `memo`。\n",
    "2. 基础情况:如果没有物品或背包容量为0,则无法放入任何物品,返回0。\n",
    "3. 在进行递归之前,先检查 `memo` 数组中是否已经计算过当前子问题的解。如果已经计算过,直接返回记忆化数组中存储的值,避免重复计算。\n",
    "4. 如果当前物品的重量大于背包的剩余容量,则不能将其放入背包,递归调用 `knapsack` 函数,考虑剩余的物品。\n",
    "5. 否则,我们有两个选择:\n",
    "   - 将当前物品放入背包,并递归调用 `knapsack` 函数,考虑剩余的物品和减少的背包容量。\n",
    "   - 不将当前物品放入背包,直接递归调用 `knapsack` 函数,考虑剩余的物品。\n",
    "6. 将计算得到的子问题的解存储在 `memo` 数组中,并返回该值。\n",
    "7. `knapsack_main` 函数初始化记忆化数组 `memo`,并调用 `knapsack` 函数求解背包问题。\n",
    "\n",
    "记忆化搜索的时间复杂度为 O(nW),其中 `n` 是物品数量,`W` 是背包容量。空间复杂度也为 O(nW),用于存储记忆化数组。\n",
    "\n",
    "与动态规划解法相比,记忆化搜索在时间复杂度上是相同的,但是它使用递归的方式来实现,代码可能更加直观和易于理解。\n",
    "\n",
    "然而,在实际应用中,动态规划解法可能会更加高效,因为它避免了递归的开销,并且可以通过优化空间复杂度来进一步提高效率。\n",
    "\n",
    "总的来说,记忆化搜索和动态规划都是优化背包问题的有效方法,选择使用哪种方法取决于具体的问题场景和个人的编程风格偏好。"
   ]
  },
  {
   "cell_type": "code",
   "execution_count": 19,
   "metadata": {},
   "outputs": [
    {
     "name": "stdout",
     "output_type": "stream",
     "text": [
      "最大价值: 1520\n",
      "耗时: 0.003321409225463867\n"
     ]
    }
   ],
   "source": [
    "def knapsack_dp(W, w, v, n):\n",
    "    dp = [[0] * (W + 1) for _ in range(n + 1)]\n",
    "    \n",
    "    for i in range(1, n + 1):\n",
    "        for j in range(1, W + 1):\n",
    "            if w[i - 1] <= j:\n",
    "                dp[i][j] = max(v[i - 1] + dp[i - 1][j - w[i - 1]], dp[i - 1][j])\n",
    "            else:\n",
    "                dp[i][j] = dp[i - 1][j]\n",
    "    \n",
    "    return dp[n][W]\n",
    "\n",
    "# 测试代码 20个物品\n",
    "W = 500\n",
    "w = [30, 10, 20, 40, 50, 60, 70, 80, 90, 100, 110, 120, 130, 140, 150, 160, 170, 180, 190, 200]\n",
    "v = [120, 60, 100, 140, 160, 180, 200, 220, 240, 260, 280, 300, 320, 340, 360, 380, 400, 420, 440, 460]\n",
    "n = len(v)\n",
    "\n",
    "import time\n",
    "start_time = time.time()\n",
    "max_value = knapsack_dp(W, w, v, n)\n",
    "end_time = time.time()\n",
    "\n",
    "# Calculate elapsed time\n",
    "elapsed_time_DP = end_time - start_time\n",
    "\n",
    "print(\"最大价值:\", max_value)\n",
    "print(\"耗时:\", elapsed_time_DP)"
   ]
  },
  {
   "cell_type": "code",
   "execution_count": 20,
   "metadata": {},
   "outputs": [
    {
     "name": "stdout",
     "output_type": "stream",
     "text": [
      "Divide and Conquer: 0.011853933334350586\n",
      "Dynamic Programming: 0.003321409225463867\n",
      "Speedup by DP: 3.568946952838992\n"
     ]
    }
   ],
   "source": [
    "# compare the two algorithms\n",
    "print(\"Divide and Conquer:\", elapsed_time_DC)\n",
    "print(\"Dynamic Programming:\", elapsed_time_DP)\n",
    "print(\"Speedup by DP:\", elapsed_time_DC / elapsed_time_DP)"
   ]
  },
  {
   "cell_type": "markdown",
   "metadata": {},
   "source": [
    "### 自底向上"
   ]
  },
  {
   "cell_type": "markdown",
   "metadata": {},
   "source": [
    "使用自底向上的动态规划方法来求解最佳交易问题。这种方法通过迭代地构建问题的解,从较小的子问题开始,逐步扩展到较大的子问题,最终得到原问题的解。"
   ]
  },
  {
   "cell_type": "code",
   "execution_count": 21,
   "metadata": {},
   "outputs": [
    {
     "name": "stdout",
     "output_type": "stream",
     "text": [
      "5\n"
     ]
    }
   ],
   "source": [
    "def max_profit(prices):\n",
    "    n = len(prices)\n",
    "    if n <= 1:\n",
    "        return 0\n",
    "    \n",
    "    # Initialize variables\n",
    "    min_price = prices[0]\n",
    "    max_profit = 0\n",
    "    \n",
    "    # Iterate through prices starting from index 1\n",
    "    for i in range(1, n):\n",
    "        # Update max_profit if selling on day i is profitable\n",
    "        max_profit = max(max_profit, prices[i] - min_price)\n",
    "        \n",
    "        # Update min_price if a lower price is found\n",
    "        min_price = min(min_price, prices[i])\n",
    "    \n",
    "    return max_profit\n",
    "\n",
    "# Example usage:\n",
    "prices = [7, 1, 5, 3, 6, 4]\n",
    "print(max_profit(prices))  # Output: 5\n"
   ]
  },
  {
   "cell_type": "code",
   "execution_count": 2,
   "metadata": {},
   "outputs": [
    {
     "name": "stdout",
     "output_type": "stream",
     "text": [
      "(5, 2)\n",
      "(1, 1)\n",
      "(5, 1)\n"
     ]
    }
   ],
   "source": [
    "def trade_dp(P):\n",
    "    n = len(P)\n",
    "    B = [0] * (n + 1)  # Initialize B with an extra element\n",
    "    B[1] = 1\n",
    "    sell_day = 1\n",
    "    best_profit = 0\n",
    "    \n",
    "    for i in range(2, n + 1):\n",
    "        if P[i - 1] < P[B[i - 1] - 1]:\n",
    "            B[i] = i\n",
    "        else:\n",
    "            B[i] = B[i - 1]\n",
    "        \n",
    "        profit = P[i - 1] - P[B[i] - 1]\n",
    "        if profit > best_profit:\n",
    "            sell_day = i\n",
    "            best_profit = profit\n",
    "    \n",
    "    return (sell_day, B[sell_day])\n",
    "\n",
    "# 测试代码\n",
    "prices = [7, 1, 5, 3, 6, 4]\n",
    "print(trade_dp(prices))  # 输出: (5, 2)   卖出日和买入日\n",
    "\n",
    "prices = [7, 6, 4, 3, 1]\n",
    "print(trade_dp(prices))  # 输出: (1, 1)\n",
    "\n",
    "prices = [1, 2, 3, 4, 5]\n",
    "print(trade_dp(prices))  # 输出: (5, 1)"
   ]
  },
  {
   "cell_type": "markdown",
   "metadata": {},
   "source": [
    "### 分支定界"
   ]
  },
  {
   "cell_type": "code",
   "execution_count": 7,
   "metadata": {},
   "outputs": [
    {
     "name": "stdout",
     "output_type": "stream",
     "text": [
      "[({'name': 'item4', 'weight': 2, 'value': 5, 'bagged_value': 5.0}, 2), ({'name': 'item1', 'weight': 5, 'value': 10, 'bagged_value': 10.0}, 5), ({'name': 'item3', 'weight': 4, 'value': 8, 'bagged_value': 6.0}, 3), ({'name': 'item2', 'weight': 6, 'value': 12, 'bagged_value': 0.0}, 0)]\n",
      "背包中的物品:\n",
      "item4 - 重量: 2, 价值: 5.0\n",
      "item1 - 重量: 5, 价值: 10.0\n",
      "item3 - 重量: 3, 价值: 6.0\n",
      "item2 - 重量: 0, 价值: 0.0\n",
      "总价值: 21.0\n"
     ]
    }
   ],
   "source": [
    "def powdered_knapsack(items, max_weight):\n",
    "    bag_weight = 0\n",
    "    bag_items = []\n",
    "    items = sorted(items, key=lambda x: x['value'] / x['weight'], reverse=True)\n",
    "    \n",
    "    for item in items:\n",
    "        weight = min(max_weight - bag_weight, item['weight'])\n",
    "        bag_weight += weight\n",
    "        value = weight * (item['value'] / item['weight'])\n",
    "        item['bagged_value'] = value\n",
    "        bag_items.append((item, weight))\n",
    "    \n",
    "    bag_value = sum(item[0]['bagged_value'] for item in bag_items)\n",
    "    return bag_items, bag_value\n",
    "\n",
    "# 测试代码\n",
    "# items = [\n",
    "#     {'name': 'item1', 'weight': 5, 'value': 10},\n",
    "#     {'name': 'item2', 'weight': 3, 'value': 6},\n",
    "#     {'name': 'item3', 'weight': 4, 'value': 8},\n",
    "#     {'name': 'item4', 'weight': 2, 'value': 5}\n",
    "# ]\n",
    "items = [\n",
    "    {'name': 'item1', 'weight': 5, 'value': 10},\n",
    "    {'name': 'item3', 'weight': 4, 'value': 8},\n",
    "    {'name': 'item2', 'weight': 6, 'value': 12},\n",
    "    {'name': 'item4', 'weight': 2, 'value': 5}\n",
    "]\n",
    "max_weight = 10\n",
    "\n",
    "bagged_items, total_value = powdered_knapsack(items, max_weight)\n",
    "print(bagged_items)\n",
    "print(\"背包中的物品:\")\n",
    "for item, weight in bagged_items:\n",
    "    print(f\"{item['name']} - 重量: {weight}, 价值: {item['bagged_value']}\")\n",
    "print(\"总价值:\", total_value)"
   ]
  },
  {
   "cell_type": "markdown",
   "metadata": {},
   "source": [
    "上面只是定了上界."
   ]
  },
  {
   "cell_type": "code",
   "execution_count": 14,
   "metadata": {},
   "outputs": [
    {
     "name": "stdout",
     "output_type": "stream",
     "text": [
      "背包中的物品:\n",
      "C - 重量: 2, 价值: 16.0\n",
      "B - 重量: 4, 价值: 19.0\n",
      "F - 重量: 2, 价值: 9.0\n",
      "E - 重量: 2, 价值: 8.666666666666666\n",
      "A - 重量: 0, 价值: 0.0\n",
      "D - 重量: 0, 价值: 0.0\n",
      "总价值: 52.666666666666664\n"
     ]
    }
   ],
   "source": [
    "# 测试代码\n",
    "items = [\n",
    "    {'name': 'A', 'weight': 5, 'value': 20},\n",
    "    {'name': 'B', 'weight': 4, 'value': 19},\n",
    "    {'name': 'C', 'weight': 2, 'value': 16},\n",
    "    {'name': 'D', 'weight': 5, 'value': 14},\n",
    "    {'name': 'E', 'weight': 3, 'value': 13},\n",
    "    {'name': 'F', 'weight': 2, 'value': 9},\n",
    "]\n",
    "max_weight = 10\n",
    "\n",
    "bagged_items, total_value = powdered_knapsack(items, max_weight)\n",
    "print(\"背包中的物品:\")\n",
    "for item, weight in bagged_items:\n",
    "    print(f\"{item['name']} - 重量: {weight}, 价值: {item['bagged_value']}\")\n",
    "print(\"总价值:\", total_value)"
   ]
  },
  {
   "cell_type": "code",
   "execution_count": 15,
   "metadata": {},
   "outputs": [
    {
     "name": "stdout",
     "output_type": "stream",
     "text": [
      "背包中的物品:\n",
      "C - 重量: 2, 价值: 16\n",
      "B - 重量: 4, 价值: 19\n",
      "F - 重量: 2, 价值: 9\n",
      "总价值: 44\n"
     ]
    }
   ],
   "source": [
    "\n",
    "# 测试代码\n",
    "items = [\n",
    "    {'name': 'A', 'weight': 5, 'value': 20},\n",
    "    {'name': 'B', 'weight': 4, 'value': 19},\n",
    "    {'name': 'C', 'weight': 2, 'value': 16},\n",
    "    {'name': 'D', 'weight': 5, 'value': 14},\n",
    "    {'name': 'E', 'weight': 3, 'value': 13},\n",
    "    {'name': 'F', 'weight': 2, 'value': 9},\n",
    "]\n",
    "max_weight = 10\n",
    "# 使用贪婪算法 解决上面背包问题\n",
    "def greedy_knapsack(items, max_weight):\n",
    "    bag_weight = 0\n",
    "    bag_items = []\n",
    "    items = sorted(items, key=lambda x: x['value'] / x['weight'], reverse=True)\n",
    "    \n",
    "    for item in items:\n",
    "        if bag_weight + item['weight'] <= max_weight:\n",
    "            bag_weight += item['weight']\n",
    "            bag_items.append(item)\n",
    "    \n",
    "    bag_value = sum(item['value'] for item in bag_items)\n",
    "    return bag_items, bag_value\n",
    "\n",
    "bagged_items, total_value = greedy_knapsack(items, max_weight)\n",
    "print(\"背包中的物品:\")\n",
    "for item in bagged_items:\n",
    "    print(f\"{item['name']} - 重量: {item['weight']}, 价值: {item['value']}\")\n",
    "print(\"总价值:\", total_value)\n",
    "\n",
    "\n",
    "\n"
   ]
  },
  {
   "cell_type": "markdown",
   "metadata": {},
   "source": [
    "合理运用上界与下界有助于以最少的计算量找出最优利润。在探索各种可能性时，我们动态地调整了搜索空间。分支定界法的应用总结如下：  \n",
    "(1) 将问题分解为若干子问题；   \n",
    "(2) 找出每个子问题的上界与下界；   \n",
    "(3) 比较所有分支的界限；   \n",
    "(4) 对最可行的子问题重复第 1 步。   \n",
    "读者或许还记得，利用回溯策略也能求解，不必探索每个可能的候选解。我们在尽可能探索路径后将它们删除，并在获得某个合适的解后停止搜索。分支定界法有助于预测最差的路径，避免在这些路径上浪费时间。"
   ]
  },
  {
   "cell_type": "markdown",
   "metadata": {},
   "source": [
    "再声明一下,   \n",
    "如果有的子问题下界不能大于其他子问题的上界,那么这里的其他子问题还保留,继续向下计算,再下一层子问题中再比较;   \n",
    "如果有的子问题下界高于其他子问题的上界,那么去掉这里的其他子问题."
   ]
  }
 ],
 "metadata": {
  "kernelspec": {
   "display_name": "Python 3",
   "language": "python",
   "name": "python3"
  },
  "language_info": {
   "codemirror_mode": {
    "name": "ipython",
    "version": 3
   },
   "file_extension": ".py",
   "mimetype": "text/x-python",
   "name": "python",
   "nbconvert_exporter": "python",
   "pygments_lexer": "ipython3",
   "version": "3.10.13"
  }
 },
 "nbformat": 4,
 "nbformat_minor": 2
}
