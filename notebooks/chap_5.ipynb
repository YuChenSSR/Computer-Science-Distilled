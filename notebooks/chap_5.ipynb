{
 "cells": [
  {
   "cell_type": "markdown",
   "metadata": {},
   "source": [
    "# 算法"
   ]
  },
  {
   "cell_type": "markdown",
   "metadata": {},
   "source": [
    "A星算法（A*算法）是一种用于图搜索和路径规划的算法，它结合了Dijkstra算法和启发式搜索（如A*算法中的启发式函数）来找到从起点到终点的最优路径。下面是A*算法的基本步骤和实现。\n",
    "\n",
    "### 1. 理解需求\n",
    "我们需要实现A*算法并对其进行测试。首先明确一下需求：\n",
    "- 输入：一个图（可以用网格表示），起点和终点。\n",
    "- 输出：从起点到终点的最优路径。\n",
    "- 启发式函数：我们将使用曼哈顿距离（适用于网格）。\n",
    "\n",
    "### 2. 思路\n",
    "A*算法的核心是维护一个开放列表和一个封闭列表：\n",
    "- 开放列表包含所有待评估的节点。\n",
    "- 封闭列表包含已经评估过的节点。\n",
    "\n",
    "每个节点都有三个重要值：\n",
    "- `g`：从起点到当前节点的实际代价。\n",
    "- `h`：当前节点到终点的估计代价（启发式）。\n",
    "- `f`：节点的总估计代价（`f = g + h`）。\n",
    "\n",
    "算法步骤：\n",
    "1. 初始化起点的`g`值为0，`h`值为起点到终点的估计代价，`f`值为`g + h`。\n",
    "2. 将起点添加到开放列表中。\n",
    "3. 当开放列表不为空时：\n",
    "   - 从开放列表中取出`f`值最小的节点。\n",
    "   - 如果该节点是终点，则构造路径并返回。\n",
    "   - 否则，将其从开放列表移到封闭列表中。\n",
    "   - 对于每个相邻节点：\n",
    "     - 如果在封闭列表中，则跳过。\n",
    "     - 计算相邻节点的`g`、`h`和`f`值。\n",
    "     - 如果相邻节点不在开放列表中，或者新的`f`值更小：\n",
    "       - 更新相邻节点的`g`、`h`和`f`值。\n",
    "       - 将相邻节点添加到开放列表中。\n",
    "\n",
    "\n",
    "\n",
    "\n"
   ]
  },
  {
   "cell_type": "code",
   "execution_count": 3,
   "metadata": {},
   "outputs": [
    {
     "name": "stdout",
     "output_type": "stream",
     "text": [
      "Path from (0, 0) to (4, 4) is: [(0, 0), (1, 0), (2, 0), (2, 1), (2, 2), (3, 2), (3, 3), (3, 4), (4, 4)]\n",
      "* 1 0 0 0\n",
      "* 1 0 1 0\n",
      "* * * 1 0\n",
      "0 1 * * *\n",
      "0 0 0 1 *\n"
     ]
    }
   ],
   "source": [
    "import heapq\n",
    "\n",
    "def heuristic(a, b):\n",
    "    return abs(a[0] - b[0]) + abs(a[1] - b[1])\n",
    "\n",
    "def a_star(graph, start, goal):\n",
    "    neighbors = [(0, 1), (1, 0), (0, -1), (-1, 0)]\n",
    "    open_list = []\n",
    "    heapq.heappush(open_list, (0, start))\n",
    "    came_from = {}\n",
    "    g_score = {start: 0}\n",
    "    f_score = {start: heuristic(start, goal)}\n",
    "    \n",
    "    while open_list:\n",
    "        current = heapq.heappop(open_list)[1]\n",
    "        \n",
    "        if current == goal:\n",
    "            path = []\n",
    "            while current in came_from:\n",
    "                path.append(current)\n",
    "                current = came_from[current]\n",
    "            path.append(start)\n",
    "            return path[::-1]\n",
    "        \n",
    "        for i, j in neighbors:\n",
    "            neighbor = (current[0] + i, current[1] + j)\n",
    "            tentative_g_score = g_score[current] + 1\n",
    "            \n",
    "            if 0 <= neighbor[0] < len(graph) and 0 <= neighbor[1] < len(graph[0]) and graph[neighbor[0]][neighbor[1]] == 0:\n",
    "                if neighbor in g_score and tentative_g_score >= g_score[neighbor]:\n",
    "                    continue\n",
    "                \n",
    "                came_from[neighbor] = current\n",
    "                g_score[neighbor] = tentative_g_score\n",
    "                f_score[neighbor] = tentative_g_score + heuristic(neighbor, goal)\n",
    "                heapq.heappush(open_list, (f_score[neighbor], neighbor))\n",
    "    \n",
    "    return []\n",
    "\n",
    "# 测试\n",
    "def print_path(grid, path):\n",
    "    for step in path:\n",
    "        grid[step[0]][step[1]] = \"*\"\n",
    "    for row in grid:\n",
    "        print(\" \".join(str(col) for col in row))\n",
    "\n",
    "grid = [\n",
    "    [0, 1, 0, 0, 0],\n",
    "    [0, 1, 0, 1, 0],\n",
    "    [0, 0, 0, 1, 0],\n",
    "    [0, 1, 0, 0, 0],\n",
    "    [0, 0, 0, 1, 0]\n",
    "]\n",
    "\n",
    "start = (0, 0)\n",
    "goal = (4, 4)\n",
    "path = a_star(grid, start, goal)\n",
    "print(\"Path from\", start, \"to\", goal, \"is:\", path)\n",
    "print_path(grid, path)\n"
   ]
  },
  {
   "cell_type": "markdown",
   "metadata": {},
   "source": [
    "### 4. 代码评论\n",
    "- `heuristic` 函数计算当前节点到目标节点的曼哈顿距离。\n",
    "- `a_star` 函数实现了A*算法，使用优先队列（最小堆）来管理开放列表。\n",
    "- `print_path` 函数用于打印找到的路径。"
   ]
  },
  {
   "cell_type": "markdown",
   "metadata": {},
   "source": [
    "莱文斯坦距离（Levenshtein Distance），又称编辑距离，是一个用来衡量两个字符串之间的差异程度的算法。它计算将一个字符串转换成另一个字符串所需的最少编辑操作次数，这些操作包括插入、删除和替换。\n",
    "\n",
    "### 1. 思路\n",
    "\n",
    "莱文斯坦距离可以使用动态规划来实现。我们创建一个二维数组 `dp`，其中 `dp[i][j]` 表示将字符串 `word1` 的前 `i` 个字符转换成 `word2` 的前 `j` 个字符所需的最少操作次数。\n",
    "\n",
    "动态规划的递推公式为：\n",
    "- 如果 `word1[i] == word2[j]`，则 `dp[i][j] = dp[i-1][j-1]`。\n",
    "- 否则，`dp[i][j] = min(dp[i-1][j] + 1, dp[i][j-1] + 1, dp[i-1][j-1] + 1)`，分别对应删除、插入和替换操作。\n",
    "\n",
    "\n",
    "\n",
    "\n",
    "\n"
   ]
  },
  {
   "cell_type": "code",
   "execution_count": 4,
   "metadata": {},
   "outputs": [
    {
     "name": "stdout",
     "output_type": "stream",
     "text": [
      "The Levenshtein distance between 'kitten' and 'sitting' is 3.\n"
     ]
    }
   ],
   "source": [
    "def levenshtein_distance(word1, word2):\n",
    "    len1, len2 = len(word1), len(word2)\n",
    "    dp = [[0] * (len2 + 1) for _ in range(len1 + 1)]\n",
    "\n",
    "    # 初始化边界条件\n",
    "    for i in range(len1 + 1):\n",
    "        dp[i][0] = i\n",
    "    for j in range(len2 + 1):\n",
    "        dp[0][j] = j\n",
    "\n",
    "    # 填充dp数组\n",
    "    for i in range(1, len1 + 1):\n",
    "        for j in range(1, len2 + 1):\n",
    "            if word1[i - 1] == word2[j - 1]:\n",
    "                dp[i][j] = dp[i - 1][j - 1]\n",
    "            else:\n",
    "                dp[i][j] = min(dp[i - 1][j] + 1,  # 删除\n",
    "                               dp[i][j - 1] + 1,  # 插入\n",
    "                               dp[i - 1][j - 1] + 1)  # 替换\n",
    "\n",
    "    return dp[len1][len2]\n",
    "\n",
    "# 测试\n",
    "word1 = \"kitten\"\n",
    "word2 = \"sitting\"\n",
    "distance = levenshtein_distance(word1, word2)\n",
    "print(f\"The Levenshtein distance between '{word1}' and '{word2}' is {distance}.\")\n"
   ]
  },
  {
   "cell_type": "markdown",
   "metadata": {},
   "source": [
    "### 3. 代码评论\n",
    "- `dp` 是一个二维数组，其中 `dp[i][j]` 存储将 `word1` 的前 `i` 个字符转换为 `word2` 的前 `j` 个字符所需的最小操作次数。\n",
    "- 初始条件 `dp[i][0]` 和 `dp[0][j]` 分别表示将字符串转换为空字符串所需的删除和插入操作次数。\n",
    "- 对于每个字符 `word1[i-1]` 和 `word2[j-1]`，如果它们相同，则无需额外操作，否则选择删除、插入或替换操作中代价最小的一个。"
   ]
  }
 ],
 "metadata": {
  "kernelspec": {
   "display_name": "Python 3",
   "language": "python",
   "name": "python3"
  },
  "language_info": {
   "codemirror_mode": {
    "name": "ipython",
    "version": 3
   },
   "file_extension": ".py",
   "mimetype": "text/x-python",
   "name": "python",
   "nbconvert_exporter": "python",
   "pygments_lexer": "ipython3",
   "version": "3.10.13"
  }
 },
 "nbformat": 4,
 "nbformat_minor": 2
}
