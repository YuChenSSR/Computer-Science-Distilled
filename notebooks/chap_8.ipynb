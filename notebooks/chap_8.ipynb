{
 "cells": [
  {
   "cell_type": "markdown",
   "metadata": {},
   "source": [
    "# 程序设计"
   ]
  },
  {
   "cell_type": "markdown",
   "metadata": {},
   "source": [
    "## 函数式编程\n",
    "函数式编程是一种编程范式，它将计算视为数学函数的求值，并且避免使用状态和可变数据。以下是函数式编程的一些关键概念和特点：\n",
    "\n",
    "1. **纯函数（Pure Functions）**：函数式编程强调使用纯函数，这种函数的输出仅依赖于输入参数，不依赖于外部状态或副作用。例如，对于相同的输入，纯函数总是返回相同的输出。\n",
    "\n",
    "2. **不可变性（Immutability）**：在函数式编程中，数据通常是不可变的。一旦创建了数据结构，就不能修改它们。相反，会创建新的数据结构来表示更改。这可以避免很多由于共享可变状态引起的错误。\n",
    "\n",
    "3. **高阶函数（Higher-Order Functions）**：函数可以作为参数传递给其他函数，或作为其他函数的返回值。常见的高阶函数包括 `map`、`filter` 和 `reduce` 等。\n",
    "\n",
    "4. **函数组合（Function Composition）**：通过组合简单函数来构建复杂函数，这样可以提高代码的可读性和可维护性。\n",
    "\n",
    "5. **递归（Recursion）**：在函数式编程中，递归是一个重要的工具，用于迭代数据结构，因为循环（如 for 和 while）通常是命令式编程的特征。\n",
    "\n",
    "### 示例代码\n",
    "\n",
    "这里有一个简单的例子，展示了如何在 Python 中使用函数式编程来处理列表数据：\n",
    "\n"
   ]
  },
  {
   "cell_type": "code",
   "execution_count": 1,
   "metadata": {},
   "outputs": [
    {
     "name": "stdout",
     "output_type": "stream",
     "text": [
      "[1, 4, 9, 16, 25]\n",
      "[2, 4]\n",
      "15\n"
     ]
    }
   ],
   "source": [
    "\n",
    "from functools import reduce\n",
    "\n",
    "# 定义一个纯函数\n",
    "def square(x):\n",
    "    return x * x\n",
    "\n",
    "# 使用 map 函数应用 square 到每个元素\n",
    "numbers = [1, 2, 3, 4, 5]\n",
    "squared_numbers = list(map(square, numbers))\n",
    "print(squared_numbers)  # 输出 [1, 4, 9, 16, 25]\n",
    "\n",
    "# 使用 filter 函数筛选偶数\n",
    "even_numbers = list(filter(lambda x: x % 2 == 0, numbers))\n",
    "print(even_numbers)  # 输出 [2, 4]\n",
    "\n",
    "# 使用 reduce 函数求和\n",
    "sum_of_numbers = reduce(lambda x, y: x + y, numbers)\n",
    "print(sum_of_numbers)  # 输出 15\n"
   ]
  },
  {
   "cell_type": "markdown",
   "metadata": {},
   "source": [
    "\n",
    "\n",
    "在这个例子中，我们使用了 `map`、`filter` 和 `reduce` 函数来操作列表，展示了函数式编程的思想。"
   ]
  },
  {
   "cell_type": "code",
   "execution_count": 2,
   "metadata": {},
   "outputs": [
    {
     "name": "stdout",
     "output_type": "stream",
     "text": [
      "15\n"
     ]
    }
   ],
   "source": [
    "# 定义 reduce 函数\n",
    "def reduce_func(lst, initial_val, func):\n",
    "    accumulator = initial_val\n",
    "    for item in lst:\n",
    "        accumulator = func(accumulator, item)\n",
    "    return accumulator\n",
    "\n",
    "# 定义一个求和函数\n",
    "def sum_func(a, b):\n",
    "    return a + b\n",
    "\n",
    "# 测试 reduce 函数\n",
    "numbers = [1, 2, 3, 4, 5]\n",
    "summed_numbers = reduce_func(numbers, 0, sum_func)\n",
    "print(summed_numbers)  # 输出应为 15\n"
   ]
  },
  {
   "cell_type": "markdown",
   "metadata": {},
   "source": [
    "如果使用 `from functools import reduce`，可以利用内置的 `reduce` 函数来实现相同的功能。下面是使用 `functools.reduce` 的代码示例：\n",
    "\n"
   ]
  },
  {
   "cell_type": "code",
   "execution_count": 3,
   "metadata": {},
   "outputs": [
    {
     "name": "stdout",
     "output_type": "stream",
     "text": [
      "15\n"
     ]
    }
   ],
   "source": [
    "\n",
    "from functools import reduce\n",
    "\n",
    "# 定义一个求和函数\n",
    "def sum_func(a, b):\n",
    "    return a + b\n",
    "\n",
    "# 测试 functools.reduce 函数\n",
    "numbers = [1, 2, 3, 4, 5]\n",
    "summed_numbers = reduce(sum_func, numbers, 0)\n",
    "print(summed_numbers)  # 输出应为 15\n"
   ]
  },
  {
   "cell_type": "markdown",
   "metadata": {},
   "source": [
    "\n",
    "\n",
    "在这个代码示例中，我们定义了一个求和函数 `sum_func`，然后使用 `functools.reduce` 来计算列表中所有元素的和，初始值为 0。"
   ]
  },
  {
   "cell_type": "markdown",
   "metadata": {},
   "source": [
    "下面是使用 `reduce` 计算一个句子列表中总单词数的代码示例：\n",
    "\n"
   ]
  },
  {
   "cell_type": "code",
   "execution_count": 4,
   "metadata": {},
   "outputs": [
    {
     "name": "stdout",
     "output_type": "stream",
     "text": [
      "13\n"
     ]
    }
   ],
   "source": [
    "\n",
    "from functools import reduce\n",
    "\n",
    "# 定义一个计算单词数的函数\n",
    "def count_words(total, sentence):\n",
    "    return total + len(sentence.split())\n",
    "\n",
    "# 测试 functools.reduce 函数\n",
    "sentences = [\"This is the first sentence.\", \"Here is another one.\", \"And the final sentence.\"]\n",
    "total_words = reduce(count_words, sentences, 0)\n",
    "print(total_words)  # 输出应为 13\n"
   ]
  },
  {
   "cell_type": "markdown",
   "metadata": {},
   "source": [
    "\n",
    "\n",
    "在这个代码示例中，我们定义了一个函数 `count_words`，该函数接受一个累加器和一个句子，将句子中的单词数加到累加器中。然后使用 `functools.reduce` 计算所有句子的总单词数，初始值为 0。\n",
    "\n",
    "sentence.split()作用是什么?  \n",
    "`sentence.split()` 是 Python 字符串方法 `split` 的一种用法，它将字符串按照空格分割成一个单词列表。例如：\n",
    "\n",
    "```python\n",
    "sentence = \"This is the first sentence.\"\n",
    "words = sentence.split()\n",
    "print(words)  # 输出 ['This', 'is', 'the', 'first', 'sentence.']\n",
    "```\n",
    "\n",
    "在上面的代码中，`sentence.split()` 将字符串 \"This is the first sentence.\" 分割成一个包含单词的列表 `['This', 'is', 'the', 'first', 'sentence.']`。这个方法默认情况下使用空格作为分隔符，可以用来统计句子中的单词数。"
   ]
  },
  {
   "cell_type": "markdown",
   "metadata": {},
   "source": [
    "高阶函数不仅可以接收函数作为输入，还可以生成新的函数作为输出。它们甚至可以在生成的函数中包含对某个值的引用，这被称为闭包。一个具有闭包的函数“记住”了一些东西，可以访问它所包含的值的环境。\n",
    "\n",
    "### 高阶函数\n",
    "\n",
    "高阶函数是可以接收其他函数作为参数或返回值的函数。比如在 Python 中，常见的高阶函数有 `map`、`filter` 和 `reduce`。它们能够使代码更具表达力和抽象性。\n",
    "\n",
    "### 闭包\n",
    "\n",
    "闭包是指一个函数对象，它引用了在其定义时作用域内的变量，即使在这个函数被执行时，这些变量已经超出了它们的作用域。换句话说，闭包让函数可以“记住”它定义时的环境。\n",
    "\n",
    "### 示例代码\n",
    "\n",
    "以下是一个 Python 中高阶函数和闭包的示例：\n",
    "\n"
   ]
  },
  {
   "cell_type": "code",
   "execution_count": 5,
   "metadata": {},
   "outputs": [
    {
     "name": "stdout",
     "output_type": "stream",
     "text": [
      "10\n",
      "15\n"
     ]
    }
   ],
   "source": [
    "\n",
    "# 高阶函数，返回一个新函数\n",
    "def make_multiplier(factor):\n",
    "    def multiplier(x):\n",
    "        return x * factor\n",
    "    return multiplier\n",
    "\n",
    "# 创建一个闭包\n",
    "double = make_multiplier(2)\n",
    "triple = make_multiplier(3)\n",
    "\n",
    "# 调用闭包\n",
    "print(double(5))  # 输出 10\n",
    "print(triple(5))  # 输出 15\n"
   ]
  },
  {
   "cell_type": "markdown",
   "metadata": {},
   "source": [
    "\n",
    "\n",
    "在这个例子中：\n",
    "\n",
    "1. `make_multiplier` 是一个高阶函数，它返回一个新的函数 `multiplier`。\n",
    "2. 返回的 `multiplier` 函数引用了 `make_multiplier` 中的 `factor` 变量。\n",
    "3. `double` 和 `triple` 是闭包，它们分别“记住”了 `factor` 为 2 和 3。\n",
    "4. 当调用 `double(5)` 和 `triple(5)` 时，闭包能够访问和使用 `factor` 的值。\n",
    "\n",
    "通过这个例子，我们可以看到闭包如何“记住”函数定义时的环境，并在函数执行时访问这些环境变量。"
   ]
  },
  {
   "cell_type": "markdown",
   "metadata": {},
   "source": [
    "使用闭包来管理累加器变量是避免使用全局变量的一种更“干净”的方法。通过闭包，我们可以将累加器变量封装在函数的局部作用域中，从而避免污染全局命名空间。"
   ]
  },
  {
   "cell_type": "code",
   "execution_count": 6,
   "metadata": {},
   "outputs": [
    {
     "name": "stdout",
     "output_type": "stream",
     "text": [
      "5\n",
      "15\n",
      "3\n",
      "10\n"
     ]
    }
   ],
   "source": [
    "def make_accumulator():\n",
    "    total = 0\n",
    "\n",
    "    def accumulator(amount):\n",
    "        nonlocal total\n",
    "        total += amount\n",
    "        return total\n",
    "\n",
    "    return accumulator\n",
    "\n",
    "# 创建两个独立的累加器\n",
    "acc1 = make_accumulator()\n",
    "acc2 = make_accumulator()\n",
    "\n",
    "# 使用第一个累加器\n",
    "print(acc1(5))  # 输出 5\n",
    "print(acc1(10))  # 输出 15\n",
    "\n",
    "# 使用第二个累加器\n",
    "print(acc2(3))  # 输出 3\n",
    "print(acc2(7))  # 输出 10\n"
   ]
  },
  {
   "cell_type": "markdown",
   "metadata": {},
   "source": [
    "\n",
    "\n",
    "在这个例子中：\n",
    "\n",
    "1. `make_accumulator` 函数定义了一个局部变量 `total`，并返回一个内部函数 `accumulator`。\n",
    "2. `accumulator` 函数使用 `nonlocal` 关键字来引用并修改 `make_accumulator` 作用域中的 `total` 变量。\n",
    "3. `make_accumulator` 返回的 `accumulator` 函数就是一个闭包，它“记住”了 `total` 变量的状态。\n",
    "4. 创建的 `acc1` 和 `acc2` 是两个独立的累加器，每个累加器都有自己独立的 `total` 变量。\n",
    "\n",
    "这种方式避免了使用全局变量，将状态封装在闭包内，使代码更加模块化和可维护。"
   ]
  },
  {
   "cell_type": "markdown",
   "metadata": {},
   "source": [
    "`nonlocal` 关键字在 Python 中用于在嵌套函数中引用外层（但不是全局）作用域中的变量。它允许内层函数修改外层函数中的局部变量，而不是创建一个新的局部变量。\n",
    "\n",
    "### 示例说明\n",
    "\n",
    "来看一个具体的例子，解释 `nonlocal` 的作用：\n",
    "\n",
    "```python\n",
    "def outer_function():\n",
    "    x = 0\n",
    "\n",
    "    def inner_function():\n",
    "        nonlocal x\n",
    "        x += 1\n",
    "        return x\n",
    "\n",
    "    return inner_function\n",
    "\n",
    "# 创建闭包\n",
    "counter = outer_function()\n",
    "\n",
    "# 调用闭包\n",
    "print(counter())  # 输出 1\n",
    "print(counter())  # 输出 2\n",
    "print(counter())  # 输出 3\n",
    "```\n",
    "\n",
    "在这个例子中：\n",
    "\n",
    "1. `outer_function` 定义了一个局部变量 `x`，并返回一个 `inner_function`。\n",
    "2. `inner_function` 中使用了 `nonlocal` 关键字来引用 `outer_function` 中的 `x` 变量。\n",
    "3. 每次调用 `counter()` 时，`inner_function` 都会修改并返回 `outer_function` 中的 `x` 变量，而不是创建一个新的局部变量。\n",
    "\n",
    "### 作用\n",
    "- **引用外层作用域变量**：`nonlocal` 允许内层函数引用并修改外层函数中的变量。\n",
    "- **避免新局部变量**：如果没有 `nonlocal`，在内层函数中赋值 `x` 会创建一个新的局部变量 `x`，而不是修改外层函数中的 `x`。\n",
    "- **保持状态**：通过 `nonlocal`，可以在闭包中保持并修改外层函数的状态变量。\n",
    "\n",
    "总的来说，`nonlocal` 提供了一种在嵌套函数中共享和修改外层函数变量的机制，使得闭包能够“记住”并更新它们创建时的环境状态。"
   ]
  },
  {
   "cell_type": "markdown",
   "metadata": {},
   "source": [
    "## 模式匹配"
   ]
  },
  {
   "cell_type": "markdown",
   "metadata": {},
   "source": [
    "函数式编程还能处理像数学函数这样的函数。\n",
    "\n",
    "函数式编程支持模式匹配，即识别模式的过程，因此可以将阶乘函数的输入模式简写为：\n",
    "```\n",
    "factorial (0): 1\n",
    "factorial (n): n × factorial (n - 1)\n",
    "```\n",
    "相比之下，命令式编程的格式有所不同:\n",
    "```python\n",
    "def factorial(n):\n",
    "    if n == 0:\n",
    "        return 1\n",
    "    else:\n",
    "        return n * factorial(n - 1)\n",
    "```\n"
   ]
  },
  {
   "cell_type": "markdown",
   "metadata": {},
   "source": [
    "---\n",
    "Python 本身不直接支持像某些函数式编程语言（例如 Haskell）那样的模式匹配。然而，我们可以通过一些技巧和第三方库（如 `match` 或 `pattern-matching`）来模拟模式匹配的行为。\n",
    "\n",
    "下面是一个使用 Python 内置功能实现模式匹配风格的阶乘函数的例子：\n",
    "\n",
    "### 使用 if 语句模拟模式匹配\n"
   ]
  },
  {
   "cell_type": "code",
   "execution_count": 7,
   "metadata": {},
   "outputs": [
    {
     "name": "stdout",
     "output_type": "stream",
     "text": [
      "120\n"
     ]
    }
   ],
   "source": [
    "\n",
    "def factorial(n):\n",
    "    match n:\n",
    "        case 0:\n",
    "            return 1\n",
    "        case _:\n",
    "            return n * factorial(n - 1)\n",
    "\n",
    "print(factorial(5))  # 输出 120\n"
   ]
  },
  {
   "cell_type": "markdown",
   "metadata": {},
   "source": [
    "\n",
    "\n",
    "在 Python 3.10 及更高版本中引入了 `match` 语句，这使得实现模式匹配风格的代码更加简洁。\n",
    "\n",
    "### 使用 functools.lru_cache 提高递归效率\n"
   ]
  },
  {
   "cell_type": "code",
   "execution_count": 8,
   "metadata": {},
   "outputs": [
    {
     "name": "stdout",
     "output_type": "stream",
     "text": [
      "120\n"
     ]
    }
   ],
   "source": [
    "\n",
    "from functools import lru_cache\n",
    "\n",
    "@lru_cache(None)\n",
    "def factorial(n):\n",
    "    match n:\n",
    "        case 0:\n",
    "            return 1\n",
    "        case _:\n",
    "            return n * factorial(n - 1)\n",
    "\n",
    "print(factorial(5))  # 输出 120\n"
   ]
  },
  {
   "cell_type": "markdown",
   "metadata": {},
   "source": [
    "\n",
    "`lru_cache` 装饰器用于缓存递归调用的结果，以提高效率，特别是在计算大阶乘时。\n",
    "\n",
    "### 使用第三方库实现模式匹配\n",
    "用 multipledispatch 库实现多重分发,它允许函数根据参数的类型和值进行分发。这样可以实现类似模式匹配的功能。\n",
    "\n",
    "\n",
    "\n"
   ]
  },
  {
   "cell_type": "code",
   "execution_count": 9,
   "metadata": {},
   "outputs": [],
   "source": [
    "# !pip install multipledispatch"
   ]
  },
  {
   "cell_type": "code",
   "execution_count": 15,
   "metadata": {},
   "outputs": [
    {
     "name": "stdout",
     "output_type": "stream",
     "text": [
      "120\n"
     ]
    }
   ],
   "source": [
    "from multipledispatch import dispatch\n",
    "\n",
    "@dispatch(int)\n",
    "def factorial(n):\n",
    "    if n == 0:\n",
    "        return 1\n",
    "    else:\n",
    "        return n * factorial(n - 1)\n",
    "\n",
    "print(factorial(5))  # 输出 120\n"
   ]
  },
  {
   "cell_type": "markdown",
   "metadata": {},
   "source": [
    "\n",
    "\n",
    "这种方法使代码看起来更像函数式编程语言中的模式匹配风格，但需要依赖外部库。\n",
    "\n",
    "总结来说，虽然 Python 不直接支持模式匹配，但可以通过 Python 3.10 引入的 `match` 语句和一些第三方库来实现类似的功能。"
   ]
  }
 ],
 "metadata": {
  "kernelspec": {
   "display_name": "pylearning",
   "language": "python",
   "name": "python3"
  },
  "language_info": {
   "codemirror_mode": {
    "name": "ipython",
    "version": 3
   },
   "file_extension": ".py",
   "mimetype": "text/x-python",
   "name": "python",
   "nbconvert_exporter": "python",
   "pygments_lexer": "ipython3",
   "version": "3.10.12"
  }
 },
 "nbformat": 4,
 "nbformat_minor": 2
}
