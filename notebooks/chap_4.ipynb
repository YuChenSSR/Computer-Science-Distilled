{
 "cells": [
  {
   "cell_type": "markdown",
   "metadata": {},
   "source": [
    "# 数据"
   ]
  },
  {
   "cell_type": "markdown",
   "metadata": {},
   "source": [
    "## 优先队列"
   ]
  },
  {
   "cell_type": "code",
   "execution_count": 13,
   "metadata": {},
   "outputs": [
    {
     "name": "stdout",
     "output_type": "stream",
     "text": [
      "Patient B\n",
      "Patient A\n",
      "Patient C\n"
     ]
    }
   ],
   "source": [
    "import heapq\n",
    "\n",
    "class PriorityQueue:\n",
    "    def __init__(self):\n",
    "        self.queue = []\n",
    "\n",
    "    def enqueue(self, e, p):\n",
    "        # heapq 使用的是最小堆，因此我们将优先级取负数，使得优先级最高的元素排在最前\n",
    "        heapq.heappush(self.queue, (-p, e))\n",
    "\n",
    "    def dequeue(self):\n",
    "        if self.queue:\n",
    "            return heapq.heappop(self.queue)[1]\n",
    "        raise IndexError(\"dequeue from an empty priority queue\")\n",
    "\n",
    "    def is_empty(self):\n",
    "        return len(self.queue) == 0\n",
    "\n",
    "# 示例使用\n",
    "pq = PriorityQueue()\n",
    "pq.enqueue('Patient A', 2)\n",
    "pq.enqueue('Patient B', 5)\n",
    "pq.enqueue('Patient C', 1)\n",
    "\n",
    "print(pq.dequeue())  # 输出: Patient B\n",
    "print(pq.dequeue())  # 输出: Patient A\n",
    "print(pq.dequeue())  # 输出: Patient C\n"
   ]
  },
  {
   "cell_type": "markdown",
   "metadata": {},
   "source": [
    "## 集合"
   ]
  },
  {
   "cell_type": "code",
   "execution_count": 14,
   "metadata": {},
   "outputs": [
    {
     "name": "stdout",
     "output_type": "stream",
     "text": [
      "[1, 2]\n",
      "[2]\n",
      "Element 2 already exists in the set.\n"
     ]
    }
   ],
   "source": [
    "class CustomSet:\n",
    "    def __init__(self):\n",
    "        self.set = set()\n",
    "\n",
    "    def add(self, e):\n",
    "        if e in self.set:\n",
    "            raise ValueError(f\"Element {e} already exists in the set.\")\n",
    "        self.set.add(e)\n",
    "\n",
    "    def list(self):\n",
    "        return list(self.set)\n",
    "\n",
    "    def delete(self, e):\n",
    "        if e not in self.set:\n",
    "            raise KeyError(f\"Element {e} not found in the set.\")\n",
    "        self.set.remove(e)\n",
    "\n",
    "# 示例使用\n",
    "my_set = CustomSet()\n",
    "my_set.add(1)\n",
    "my_set.add(2)\n",
    "\n",
    "print(my_set.list())  # 输出: [1, 2]\n",
    "\n",
    "my_set.delete(1)\n",
    "print(my_set.list())  # 输出: [2]\n",
    "\n",
    "try:\n",
    "    my_set.add(2)  # 试图添加重复元素\n",
    "except ValueError as ve:\n",
    "    print(ve)  # 输出: Element 2 already exists in the set.\n"
   ]
  },
  {
   "cell_type": "markdown",
   "metadata": {},
   "source": [
    "## 映射"
   ]
  },
  {
   "cell_type": "code",
   "execution_count": 15,
   "metadata": {},
   "outputs": [
    {
     "name": "stdout",
     "output_type": "stream",
     "text": [
      "Alice\n",
      "Bob\n",
      "'Key 1 not found in the dictionary.'\n"
     ]
    }
   ],
   "source": [
    "class CustomDict:\n",
    "    def __init__(self):\n",
    "        self.dict = {}\n",
    "\n",
    "    def set(self, key, value):\n",
    "        self.dict[key] = value\n",
    "\n",
    "    def delete(self, key):\n",
    "        if key not in self.dict:\n",
    "            raise KeyError(f\"Key {key} not found in the dictionary.\")\n",
    "        del self.dict[key]\n",
    "\n",
    "    def get(self, key):\n",
    "        if key not in self.dict:\n",
    "            raise KeyError(f\"Key {key} not found in the dictionary.\")\n",
    "        return self.dict[key]\n",
    "\n",
    "# 示例使用\n",
    "user_dict = CustomDict()\n",
    "user_dict.set(1, \"Alice\")\n",
    "user_dict.set(2, \"Bob\")\n",
    "\n",
    "print(user_dict.get(1))  # 输出: Alice\n",
    "print(user_dict.get(2))  # 输出: Bob\n",
    "\n",
    "user_dict.delete(1)\n",
    "\n",
    "try:\n",
    "    print(user_dict.get(1))  # 试图获取已删除的键\n",
    "except KeyError as ke:\n",
    "    print(ke)  # 输出: Key 1 not found in the dictionary.\n"
   ]
  },
  {
   "cell_type": "markdown",
   "metadata": {},
   "source": [
    "## 栈"
   ]
  },
  {
   "cell_type": "code",
   "execution_count": 16,
   "metadata": {},
   "outputs": [
    {
     "name": "stdout",
     "output_type": "stream",
     "text": [
      "3\n",
      "2\n",
      "False\n",
      "True\n"
     ]
    }
   ],
   "source": [
    "class Stack:\n",
    "    def __init__(self):\n",
    "        self.stack = []\n",
    "\n",
    "    def push(self, e):\n",
    "        self.stack.append(e)\n",
    "\n",
    "    def pop(self):\n",
    "        if self.is_empty():\n",
    "            raise IndexError(\"Pop from an empty stack.\")\n",
    "        return self.stack.pop()\n",
    "\n",
    "    def is_empty(self):\n",
    "        return len(self.stack) == 0\n",
    "\n",
    "    def size(self):\n",
    "        return len(self.stack)\n",
    "\n",
    "# 示例使用\n",
    "my_stack = Stack()\n",
    "my_stack.push(1)\n",
    "my_stack.push(2)\n",
    "my_stack.push(3)\n",
    "\n",
    "print(my_stack.pop())  # 输出: 3\n",
    "print(my_stack.size())  # 输出: 2\n",
    "print(my_stack.is_empty())  # 输出: False\n",
    "\n",
    "my_stack.pop()\n",
    "my_stack.pop()\n",
    "\n",
    "print(my_stack.is_empty())  # 输出: True\n"
   ]
  },
  {
   "cell_type": "markdown",
   "metadata": {},
   "source": [
    "## 队列"
   ]
  },
  {
   "cell_type": "code",
   "execution_count": 17,
   "metadata": {},
   "outputs": [
    {
     "name": "stdout",
     "output_type": "stream",
     "text": [
      "1\n",
      "2\n",
      "False\n",
      "True\n"
     ]
    }
   ],
   "source": [
    "class Queue:\n",
    "    def __init__(self):\n",
    "        self.queue = []\n",
    "\n",
    "    def enqueue(self, e):\n",
    "        self.queue.append(e)\n",
    "\n",
    "    def dequeue(self):\n",
    "        if self.is_empty():\n",
    "            raise IndexError(\"Dequeue from an empty queue.\")\n",
    "        return self.queue.pop(0)\n",
    "\n",
    "    def is_empty(self):\n",
    "        return len(self.queue) == 0\n",
    "\n",
    "    def size(self):\n",
    "        return len(self.queue)\n",
    "\n",
    "# 示例使用\n",
    "my_queue = Queue()\n",
    "my_queue.enqueue(1)\n",
    "my_queue.enqueue(2)\n",
    "my_queue.enqueue(3)\n",
    "\n",
    "print(my_queue.dequeue())  # 输出: 1\n",
    "print(my_queue.size())  # 输出: 2\n",
    "print(my_queue.is_empty())  # 输出: False\n",
    "\n",
    "my_queue.dequeue()\n",
    "my_queue.dequeue()\n",
    "\n",
    "print(my_queue.is_empty())  # 输出: True\n"
   ]
  },
  {
   "cell_type": "markdown",
   "metadata": {},
   "source": [
    "## 列表"
   ]
  },
  {
   "cell_type": "code",
   "execution_count": 18,
   "metadata": {},
   "outputs": [
    {
     "name": "stdout",
     "output_type": "stream",
     "text": [
      "3\n",
      "1\n",
      "2\n",
      "[1, 2, 3]\n",
      "[2, 3]\n",
      "[3, 2, 1]\n",
      "[3, 1]\n"
     ]
    }
   ],
   "source": [
    "class CustomList:\n",
    "    def __init__(self):\n",
    "        self.list = []\n",
    "\n",
    "    def insert(self, n, e):\n",
    "        if n >= 0 and n <= len(self.list):\n",
    "            self.list.insert(n, e)\n",
    "        else:\n",
    "            raise IndexError(\"Index out of bounds.\")\n",
    "\n",
    "    def remove(self, n):\n",
    "        if n >= 0 and n < len(self.list):\n",
    "            return self.list.pop(n)\n",
    "        else:\n",
    "            raise IndexError(\"Index out of bounds.\")\n",
    "\n",
    "    def get(self, n):\n",
    "        if n >= 0 and n < len(self.list):\n",
    "            return self.list[n]\n",
    "        else:\n",
    "            raise IndexError(\"Index out of bounds.\")\n",
    "\n",
    "    def sort(self):\n",
    "        self.list.sort()\n",
    "\n",
    "    def slice(self, start, end):\n",
    "        if start >= 0 and end <= len(self.list) and start <= end:\n",
    "            return self.list[start:end]\n",
    "        else:\n",
    "            raise IndexError(\"Index out of bounds.\")\n",
    "\n",
    "    def reverse(self):\n",
    "        self.list.reverse()\n",
    "\n",
    "# 示例使用\n",
    "my_list = CustomList()\n",
    "my_list.insert(0, 3)\n",
    "my_list.insert(1, 1)\n",
    "my_list.insert(2, 2)\n",
    "\n",
    "print(my_list.get(0))  # 输出: 3\n",
    "print(my_list.get(1))  # 输出: 1\n",
    "print(my_list.get(2))  # 输出: 2\n",
    "\n",
    "my_list.sort()\n",
    "print(my_list.list)  # 输出: [1, 2, 3]\n",
    "\n",
    "print(my_list.slice(1, 3))  # 输出: [2, 3]\n",
    "\n",
    "my_list.reverse()\n",
    "print(my_list.list)  # 输出: [3, 2, 1]\n",
    "\n",
    "my_list.remove(1)\n",
    "print(my_list.list)  # 输出: [3, 1]\n"
   ]
  },
  {
   "cell_type": "code",
   "execution_count": 26,
   "metadata": {},
   "outputs": [
    {
     "data": {
      "text/plain": [
       "[123, 'xyz', 'zara', 'abc', 2009]"
      ]
     },
     "execution_count": 26,
     "metadata": {},
     "output_type": "execute_result"
    }
   ],
   "source": [
    "# aList = [123, 'xyz', 'zara', 'abc']\n",
    " \n",
    "# aList.insert( 4, 2009)\n",
    "# aList"
   ]
  },
  {
   "cell_type": "markdown",
   "metadata": {},
   "source": [
    "## 排序列表"
   ]
  },
  {
   "cell_type": "code",
   "execution_count": 19,
   "metadata": {},
   "outputs": [
    {
     "name": "stdout",
     "output_type": "stream",
     "text": [
      "[1, 2, 3]\n",
      "1\n",
      "2\n",
      "3\n",
      "[1, 3]\n"
     ]
    }
   ],
   "source": [
    "class SortedList:\n",
    "    def __init__(self):\n",
    "        self.list = []\n",
    "\n",
    "    def insert(self, e):\n",
    "        # 二分查找插入位置\n",
    "        left, right = 0, len(self.list)\n",
    "        while left < right:\n",
    "            mid = (left + right) // 2\n",
    "            if self.list[mid] < e:\n",
    "                left = mid + 1\n",
    "            else:\n",
    "                right = mid\n",
    "        self.list.insert(left, e)\n",
    "\n",
    "    def remove(self, n):\n",
    "        if n >= 0 and n < len(self.list):\n",
    "            return self.list.pop(n)\n",
    "        else:\n",
    "            raise IndexError(\"Index out of bounds.\")\n",
    "\n",
    "    def get(self, n):\n",
    "        if n >= 0 and n < len(self.list):\n",
    "            return self.list[n]\n",
    "        else:\n",
    "            raise IndexError(\"Index out of bounds.\")\n",
    "\n",
    "# 示例使用\n",
    "sorted_list = SortedList()\n",
    "sorted_list.insert(3)\n",
    "sorted_list.insert(1)\n",
    "sorted_list.insert(2)\n",
    "\n",
    "print(sorted_list.list)  # 输出: [1, 2, 3]\n",
    "\n",
    "print(sorted_list.get(0))  # 输出: 1\n",
    "print(sorted_list.get(1))  # 输出: 2\n",
    "print(sorted_list.get(2))  # 输出: 3\n",
    "\n",
    "sorted_list.remove(1)\n",
    "print(sorted_list.list)  # 输出: [1, 3]\n"
   ]
  },
  {
   "cell_type": "code",
   "execution_count": null,
   "metadata": {},
   "outputs": [],
   "source": []
  }
 ],
 "metadata": {
  "kernelspec": {
   "display_name": "pylearning",
   "language": "python",
   "name": "python3"
  },
  "language_info": {
   "codemirror_mode": {
    "name": "ipython",
    "version": 3
   },
   "file_extension": ".py",
   "mimetype": "text/x-python",
   "name": "python",
   "nbconvert_exporter": "python",
   "pygments_lexer": "ipython3",
   "version": "3.10.12"
  }
 },
 "nbformat": 4,
 "nbformat_minor": 2
}
